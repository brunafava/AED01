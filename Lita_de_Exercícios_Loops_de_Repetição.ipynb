{
  "nbformat": 4,
  "nbformat_minor": 0,
  "metadata": {
    "colab": {
      "provenance": [],
      "authorship_tag": "ABX9TyPcH/4YC7URkA2i370fTQ8x",
      "include_colab_link": true
    },
    "kernelspec": {
      "name": "python3",
      "display_name": "Python 3"
    },
    "language_info": {
      "name": "python"
    }
  },
  "cells": [
    {
      "cell_type": "markdown",
      "metadata": {
        "id": "view-in-github",
        "colab_type": "text"
      },
      "source": [
        "<a href=\"https://colab.research.google.com/github/brunafava/AED01/blob/main/Lita_de_Exerc%C3%ADcios_Loops_de_Repeti%C3%A7%C3%A3o.ipynb\" target=\"_parent\"><img src=\"https://colab.research.google.com/assets/colab-badge.svg\" alt=\"Open In Colab\"/></a>"
      ]
    },
    {
      "cell_type": "code",
      "execution_count": null,
      "metadata": {
        "colab": {
          "base_uri": "https://localhost:8080/"
        },
        "id": "acseTv3QihGU",
        "outputId": "2851c057-e3bd-4e1e-e12c-77f2f74bfd38"
      },
      "outputs": [
        {
          "name": "stdout",
          "output_type": "stream",
          "text": [
            "Digite uma nota:55\n",
            "Nota inválida\n",
            "Digite uma nota:-2\n",
            "Nota inválida\n",
            "Digite uma nota:5\n"
          ]
        }
      ],
      "source": [
        "# 1) Faça um programa que peça uma nota, entre zero e dez. Mostre uma mensagem caso o valor seja inválido e continue pedindo até que o usuário informe um valor válido.\n",
        "\n",
        "nota = -1\n",
        "\n",
        "while nota < 0 or nota > 10:\n",
        "    nota = int(input(\"Digite uma nota:\"))\n",
        "    if nota < 0 or nota > 10:\n",
        "        print(\"Nota inválida\")"
      ]
    },
    {
      "cell_type": "code",
      "source": [
        "# 2) Faça um programa que leia um nome de usuário e a sua senha e não aceite a senha igual ao nome do usuário, mostrando uma mensagem de erro e voltando a pedir as informações.\n",
        "\n",
        "nome = input(\"Digite seu nome:\")\n",
        "senha = input(\"Digite sua senha:\")\n",
        "\n",
        "while nome == senha:\n",
        "    print(\"Senha inválida\")\n",
        "    senha = input(\"Digite sua senha:\")"
      ],
      "metadata": {
        "colab": {
          "base_uri": "https://localhost:8080/"
        },
        "id": "DXTYkd49mMb3",
        "outputId": "b928352e-9a0c-40aa-b814-b35a8002f93f"
      },
      "execution_count": null,
      "outputs": [
        {
          "name": "stdout",
          "output_type": "stream",
          "text": [
            "Digite seu nome:bruna\n",
            "Digite sua senha:bruna\n",
            "Senha inválida\n",
            "Digite sua senha:fava\n"
          ]
        }
      ]
    },
    {
      "cell_type": "code",
      "source": [
        "# 3) Faça um programa que leia e valide as seguintes informações:\n",
        "  # a. Nome: maior que 3 caracteres;\n",
        "  # b. Idade: entre 0 e 150;\n",
        "  # c. Salário: maior que zero;\n",
        "  # d. Sexo: 'f' ou 'm';\n",
        "  # e. Estado Civil: 's', 'c', 'v', 'd'.\n",
        "\n",
        "nome = input(\"Digite seu nome:\")\n",
        "while len(nome) <= 3:\n",
        "    print(\"Nome inválido\")\n",
        "    nome = input(\"Digite seu nome:\")\n",
        "\n",
        "idade = int(input(\"Digite sua idade:\"))\n",
        "while idade < 0 or idade > 150:\n",
        "    print(\"Idade inválida\")\n",
        "    idade = int(input(\"Digite sua idade:\"))\n",
        "\n",
        "salario = float(input(\"Digite seu salário:\"))\n",
        "while salario <= 0:\n",
        "    print(\"Salário inválido\")\n",
        "    salario = float(input(\"Digite seu salário:\"))\n",
        "\n",
        "sexo = input(\"Digite seu sexo:\")\n",
        "while sexo != 'f' and sexo != 'm':\n",
        "    print(\"Sexo inválido\")\n",
        "    sexo = input(\"Digite seu sexo:\")\n",
        "\n",
        "estado_civil = input(\"Digite seu estado civil:\")\n",
        "while estado_civil != 's' and estado_civil != 'c' and estado_civil != 'v' and estado_civil != 'd':\n",
        "    print(\"Estado civil inválido\")\n",
        "    estado_civil = input(\"Digite seu estado civil:\")"
      ],
      "metadata": {
        "id": "e6Ef6jsXmgru",
        "colab": {
          "base_uri": "https://localhost:8080/"
        },
        "outputId": "fe657269-4a74-4e04-84e9-71c0443b378b"
      },
      "execution_count": 1,
      "outputs": [
        {
          "name": "stdout",
          "output_type": "stream",
          "text": [
            "Digite seu nome:bruna\n",
            "Digite sua idade:19\n",
            "Digite seu salário:1500\n",
            "Digite seu sexo:s\n",
            "Sexo inválido\n",
            "Digite seu sexo:solteiro\n",
            "Sexo inválido\n",
            "Digite seu sexo:f\n",
            "Digite seu estado civil:s\n"
          ]
        }
      ]
    },
    {
      "cell_type": "code",
      "source": [
        "# 4) Supondo que a população de um país A seja da ordem de 80000 habitantes com uma taxa anual de crescimento de 3% e que a população de B seja 200000 habitantes com uma taxa de crescimento de 1.5%. Faça um programa que calcule e escreva o número de anos necessários para que a população do país A ultrapasse ou iguale a população do país B, mantidas as taxas de crescimento.\n",
        "\n",
        "populacao_a = 80000\n",
        "populacao_b = 200000\n",
        "taxa_crescimento_a = 1.03\n",
        "taxa_crescimento_b = 1.015\n",
        "\n",
        "ano = 1\n",
        "while (populacao_a <= populacao_b):\n",
        "    populacao_a *= taxa_crescimento_a\n",
        "    populacao_b *= taxa_crescimento_b\n",
        "    ano += 1\n",
        "    print('Serão necessários', ano, 'anos para que a população do país A ultrapasse ou iguale a população do país B.')"
      ],
      "metadata": {
        "colab": {
          "base_uri": "https://localhost:8080/"
        },
        "id": "m6VpvFhl7y8W",
        "outputId": "09e9ae2a-788c-4684-bca5-d0b49f98dcf2"
      },
      "execution_count": 7,
      "outputs": [
        {
          "output_type": "stream",
          "name": "stdout",
          "text": [
            "Serão necessários 2 anos para que a população do país A ultrapasse ou iguale a população do país B.\n",
            "Serão necessários 3 anos para que a população do país A ultrapasse ou iguale a população do país B.\n",
            "Serão necessários 4 anos para que a população do país A ultrapasse ou iguale a população do país B.\n",
            "Serão necessários 5 anos para que a população do país A ultrapasse ou iguale a população do país B.\n",
            "Serão necessários 6 anos para que a população do país A ultrapasse ou iguale a população do país B.\n",
            "Serão necessários 7 anos para que a população do país A ultrapasse ou iguale a população do país B.\n",
            "Serão necessários 8 anos para que a população do país A ultrapasse ou iguale a população do país B.\n",
            "Serão necessários 9 anos para que a população do país A ultrapasse ou iguale a população do país B.\n",
            "Serão necessários 10 anos para que a população do país A ultrapasse ou iguale a população do país B.\n",
            "Serão necessários 11 anos para que a população do país A ultrapasse ou iguale a população do país B.\n",
            "Serão necessários 12 anos para que a população do país A ultrapasse ou iguale a população do país B.\n",
            "Serão necessários 13 anos para que a população do país A ultrapasse ou iguale a população do país B.\n",
            "Serão necessários 14 anos para que a população do país A ultrapasse ou iguale a população do país B.\n",
            "Serão necessários 15 anos para que a população do país A ultrapasse ou iguale a população do país B.\n",
            "Serão necessários 16 anos para que a população do país A ultrapasse ou iguale a população do país B.\n",
            "Serão necessários 17 anos para que a população do país A ultrapasse ou iguale a população do país B.\n",
            "Serão necessários 18 anos para que a população do país A ultrapasse ou iguale a população do país B.\n",
            "Serão necessários 19 anos para que a população do país A ultrapasse ou iguale a população do país B.\n",
            "Serão necessários 20 anos para que a população do país A ultrapasse ou iguale a população do país B.\n",
            "Serão necessários 21 anos para que a população do país A ultrapasse ou iguale a população do país B.\n",
            "Serão necessários 22 anos para que a população do país A ultrapasse ou iguale a população do país B.\n",
            "Serão necessários 23 anos para que a população do país A ultrapasse ou iguale a população do país B.\n",
            "Serão necessários 24 anos para que a população do país A ultrapasse ou iguale a população do país B.\n",
            "Serão necessários 25 anos para que a população do país A ultrapasse ou iguale a população do país B.\n",
            "Serão necessários 26 anos para que a população do país A ultrapasse ou iguale a população do país B.\n",
            "Serão necessários 27 anos para que a população do país A ultrapasse ou iguale a população do país B.\n",
            "Serão necessários 28 anos para que a população do país A ultrapasse ou iguale a população do país B.\n",
            "Serão necessários 29 anos para que a população do país A ultrapasse ou iguale a população do país B.\n",
            "Serão necessários 30 anos para que a população do país A ultrapasse ou iguale a população do país B.\n",
            "Serão necessários 31 anos para que a população do país A ultrapasse ou iguale a população do país B.\n",
            "Serão necessários 32 anos para que a população do país A ultrapasse ou iguale a população do país B.\n",
            "Serão necessários 33 anos para que a população do país A ultrapasse ou iguale a população do país B.\n",
            "Serão necessários 34 anos para que a população do país A ultrapasse ou iguale a população do país B.\n",
            "Serão necessários 35 anos para que a população do país A ultrapasse ou iguale a população do país B.\n",
            "Serão necessários 36 anos para que a população do país A ultrapasse ou iguale a população do país B.\n",
            "Serão necessários 37 anos para que a população do país A ultrapasse ou iguale a população do país B.\n",
            "Serão necessários 38 anos para que a população do país A ultrapasse ou iguale a população do país B.\n",
            "Serão necessários 39 anos para que a população do país A ultrapasse ou iguale a população do país B.\n",
            "Serão necessários 40 anos para que a população do país A ultrapasse ou iguale a população do país B.\n",
            "Serão necessários 41 anos para que a população do país A ultrapasse ou iguale a população do país B.\n",
            "Serão necessários 42 anos para que a população do país A ultrapasse ou iguale a população do país B.\n",
            "Serão necessários 43 anos para que a população do país A ultrapasse ou iguale a população do país B.\n",
            "Serão necessários 44 anos para que a população do país A ultrapasse ou iguale a população do país B.\n",
            "Serão necessários 45 anos para que a população do país A ultrapasse ou iguale a população do país B.\n",
            "Serão necessários 46 anos para que a população do país A ultrapasse ou iguale a população do país B.\n",
            "Serão necessários 47 anos para que a população do país A ultrapasse ou iguale a população do país B.\n",
            "Serão necessários 48 anos para que a população do país A ultrapasse ou iguale a população do país B.\n",
            "Serão necessários 49 anos para que a população do país A ultrapasse ou iguale a população do país B.\n",
            "Serão necessários 50 anos para que a população do país A ultrapasse ou iguale a população do país B.\n",
            "Serão necessários 51 anos para que a população do país A ultrapasse ou iguale a população do país B.\n",
            "Serão necessários 52 anos para que a população do país A ultrapasse ou iguale a população do país B.\n",
            "Serão necessários 53 anos para que a população do país A ultrapasse ou iguale a população do país B.\n",
            "Serão necessários 54 anos para que a população do país A ultrapasse ou iguale a população do país B.\n",
            "Serão necessários 55 anos para que a população do país A ultrapasse ou iguale a população do país B.\n",
            "Serão necessários 56 anos para que a população do país A ultrapasse ou iguale a população do país B.\n",
            "Serão necessários 57 anos para que a população do país A ultrapasse ou iguale a população do país B.\n",
            "Serão necessários 58 anos para que a população do país A ultrapasse ou iguale a população do país B.\n",
            "Serão necessários 59 anos para que a população do país A ultrapasse ou iguale a população do país B.\n",
            "Serão necessários 60 anos para que a população do país A ultrapasse ou iguale a população do país B.\n",
            "Serão necessários 61 anos para que a população do país A ultrapasse ou iguale a população do país B.\n",
            "Serão necessários 62 anos para que a população do país A ultrapasse ou iguale a população do país B.\n",
            "Serão necessários 63 anos para que a população do país A ultrapasse ou iguale a população do país B.\n",
            "Serão necessários 64 anos para que a população do país A ultrapasse ou iguale a população do país B.\n"
          ]
        }
      ]
    },
    {
      "cell_type": "code",
      "source": [
        "# 5) Faça um programa que leia 5 números e informe a soma e a média dos números.\n",
        "\n",
        "soma = 0\n",
        "for i in range(5):\n",
        "    numero = int(input(\"Digite um número:\"))\n",
        "    soma += numero\n",
        "print(\"A soma dos números é:\", soma)\n",
        "print(\"A média dos números é:\", soma/5)"
      ],
      "metadata": {
        "colab": {
          "base_uri": "https://localhost:8080/"
        },
        "id": "hH7eJkLk9eBZ",
        "outputId": "69c8fa25-10dd-436e-fbef-7e795908b28f"
      },
      "execution_count": 8,
      "outputs": [
        {
          "output_type": "stream",
          "name": "stdout",
          "text": [
            "Digite um número:4\n",
            "Digite um número:5\n",
            "Digite um número:6\n",
            "Digite um número:7\n",
            "Digite um número:8\n",
            "A soma dos números é: 30\n",
            "A média dos números é: 6.0\n"
          ]
        }
      ]
    },
    {
      "cell_type": "code",
      "source": [
        "# 6) Desenvolva um gerador de tabuada, capaz de gerar a tabuada de qualquer número inteiro entre 1 a 10. O usuário deve informar de qual numero ele deseja ver a tabuada.\n",
        "\n",
        "numero = int(input(\"Digite um número:\"))\n",
        "for i in range(1, 11):\n",
        "    print(numero, \"x\", i, \"=\", numero*i)"
      ],
      "metadata": {
        "colab": {
          "base_uri": "https://localhost:8080/"
        },
        "id": "laOlBX6i95X6",
        "outputId": "cfd0261c-667c-4e54-fec1-23e0074c81a7"
      },
      "execution_count": 10,
      "outputs": [
        {
          "output_type": "stream",
          "name": "stdout",
          "text": [
            "Digite um número:4\n",
            "4 x 1 = 4\n",
            "4 x 2 = 8\n",
            "4 x 3 = 12\n",
            "4 x 4 = 16\n",
            "4 x 5 = 20\n",
            "4 x 6 = 24\n",
            "4 x 7 = 28\n",
            "4 x 8 = 32\n",
            "4 x 9 = 36\n",
            "4 x 10 = 40\n"
          ]
        }
      ]
    },
    {
      "cell_type": "code",
      "source": [
        "# 7) A série de Fibonacci é formada pela seqüência 1,1,2,3,5,8,13,21,34,55,... Faça um programa capaz de gerar a série até o n−ésimo termo.\n",
        "\n",
        "termo = 0\n",
        "while termo <= 0:\n",
        "    termo = int(input(\"Digite um número:\"))\n",
        "    if termo <= 0:\n",
        "        print(\"Número inválido\")\n",
        "\n",
        "prim = 0\n",
        "print(prim)\n",
        "seg = 1\n",
        "for i in range (1,termo):\n",
        "    print(seg)\n",
        "    terc = prim + seg\n",
        "    prim = seg\n",
        "    seg = terc"
      ],
      "metadata": {
        "colab": {
          "base_uri": "https://localhost:8080/"
        },
        "id": "W0UDx4_Q-Hgd",
        "outputId": "09ebad41-32bf-42b2-a836-c57f17254b50"
      },
      "execution_count": 12,
      "outputs": [
        {
          "output_type": "stream",
          "name": "stdout",
          "text": [
            "Digite um número:5\n",
            "0\n",
            "1\n",
            "1\n",
            "2\n",
            "3\n"
          ]
        }
      ]
    },
    {
      "cell_type": "code",
      "source": [
        "# 8) Faça um programa que calcule o mostre a média aritmética de N notas.\n",
        "\n",
        "qntd = 0\n",
        "while qntd <= 0:\n",
        "    qntd = int(input(\"Digite a quantidade de notas:\"))\n",
        "    if qntd <= 0:\n",
        "        print(\"Quantidade inválida\")\n",
        "\n",
        "soma = 0\n",
        "for i in range(0, qntd):\n",
        "    nota = -1\n",
        "    while nota<0 or nota>10:\n",
        "        nota = int(input(\"Digite a nota:\"))\n",
        "        if nota<0 or nota>10:\n",
        "            print(\"Nota inválida\")\n",
        "    soma += nota\n",
        "print(\"A média das notas é:\", soma/qntd)"
      ],
      "metadata": {
        "colab": {
          "base_uri": "https://localhost:8080/"
        },
        "id": "5i-W3cYK-0D7",
        "outputId": "e830d03c-1948-4709-b0d7-55cf97423f54"
      },
      "execution_count": 14,
      "outputs": [
        {
          "output_type": "stream",
          "name": "stdout",
          "text": [
            "Digite a quantidade de notas:2\n",
            "Digite a nota:4\n",
            "Digite a nota:6\n",
            "A média das notas é: 5.0\n"
          ]
        }
      ]
    },
    {
      "cell_type": "code",
      "source": [
        "# 9) O Sr. Manoel Joaquim possui uma grande loja de artigos de R$ 1,99, com cerca de 10 caixas. Para agilizar o cálculo de quanto cada cliente deve pagar ele desenvolveu um tabela que contém o número de itens que o cliente comprou e ao lado o valor da conta. Desta forma a atendente do caixa precisa apenas contar quantos itens o cliente está levando e olhar na tabela de preços. Você foi contratado para desenvolver o programa que monta esta tabela de preços, que conterá os preços de 1 até 50 produtos.\n",
        "\n",
        "print('Lojas Quase Dois - Tabela de preços')\n",
        "for i in range(1, 51):\n",
        "    print(i, ' - R$', i * 1.99)"
      ],
      "metadata": {
        "colab": {
          "base_uri": "https://localhost:8080/"
        },
        "id": "lVVDCofW_l7K",
        "outputId": "581e8b45-54ad-41de-ed3d-f5b1732badfb"
      },
      "execution_count": 15,
      "outputs": [
        {
          "output_type": "stream",
          "name": "stdout",
          "text": [
            "Lojas Quase Dois - Tabela de preços\n",
            "1  - R$ 1.99\n",
            "2  - R$ 3.98\n",
            "3  - R$ 5.97\n",
            "4  - R$ 7.96\n",
            "5  - R$ 9.95\n",
            "6  - R$ 11.94\n",
            "7  - R$ 13.93\n",
            "8  - R$ 15.92\n",
            "9  - R$ 17.91\n",
            "10  - R$ 19.9\n",
            "11  - R$ 21.89\n",
            "12  - R$ 23.88\n",
            "13  - R$ 25.87\n",
            "14  - R$ 27.86\n",
            "15  - R$ 29.85\n",
            "16  - R$ 31.84\n",
            "17  - R$ 33.83\n",
            "18  - R$ 35.82\n",
            "19  - R$ 37.81\n",
            "20  - R$ 39.8\n",
            "21  - R$ 41.79\n",
            "22  - R$ 43.78\n",
            "23  - R$ 45.77\n",
            "24  - R$ 47.76\n",
            "25  - R$ 49.75\n",
            "26  - R$ 51.74\n",
            "27  - R$ 53.73\n",
            "28  - R$ 55.72\n",
            "29  - R$ 57.71\n",
            "30  - R$ 59.7\n",
            "31  - R$ 61.69\n",
            "32  - R$ 63.68\n",
            "33  - R$ 65.67\n",
            "34  - R$ 67.66\n",
            "35  - R$ 69.65\n",
            "36  - R$ 71.64\n",
            "37  - R$ 73.63\n",
            "38  - R$ 75.62\n",
            "39  - R$ 77.61\n",
            "40  - R$ 79.6\n",
            "41  - R$ 81.59\n",
            "42  - R$ 83.58\n",
            "43  - R$ 85.57\n",
            "44  - R$ 87.56\n",
            "45  - R$ 89.55\n",
            "46  - R$ 91.54\n",
            "47  - R$ 93.53\n",
            "48  - R$ 95.52\n",
            "49  - R$ 97.51\n",
            "50  - R$ 99.5\n"
          ]
        }
      ]
    },
    {
      "cell_type": "code",
      "source": [
        "# 10) O Departamento Estadual de Meteorologia lhe contratou para desenvolver um programa que leia as um conjunto indeterminado de temperaturas, e informe ao final a menor e a maior temperaturas informadas, bem como a média das temperaturas.\n",
        "\n",
        "qntd = 0\n",
        "while qntd <= 0:\n",
        "    qntd = int(input('Informe a quantidade de temperaturas: '))\n",
        "    if qntd <=0:\n",
        "        print('A quantidade deve ser positiva')\n",
        "\n",
        "soma = 0\n",
        "for i in range(0,qntd):\n",
        "    temp = int(input('Informe a temperatura: '))\n",
        "    soma += temp\n",
        "\n",
        "media = soma / qntd\n",
        "print('A média das temperaturas é: ', media)"
      ],
      "metadata": {
        "colab": {
          "base_uri": "https://localhost:8080/"
        },
        "id": "DLED3uJNAGHk",
        "outputId": "3c2da556-ff36-44bc-c0a8-7d3d41cbc9fd"
      },
      "execution_count": 17,
      "outputs": [
        {
          "output_type": "stream",
          "name": "stdout",
          "text": [
            "Informe a quantidade de temperaturas: 2\n",
            "Informe a temperatura: 33\n",
            "Informe a temperatura: 55\n",
            "A média das temperaturas é:  44.0\n"
          ]
        }
      ]
    }
  ]
}