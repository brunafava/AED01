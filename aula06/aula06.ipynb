{
  "cells": [
    {
      "cell_type": "markdown",
      "metadata": {
        "id": "PPtVnK2aQ2kN"
      },
      "source": [
        "![Algoritmos e Estrutura de Dados I](AED1_banner.jpg)"
      ]
    },
    {
      "cell_type": "markdown",
      "metadata": {
        "id": "bVpAIeoAQ2kP"
      },
      "source": [
        "## <font color='blue'>Algorítmos e Estrutura de Dados I</font>\n",
        "### <font color='blue'>Aula 06 - Estrutura Sequencial</font>"
      ]
    },
    {
      "cell_type": "code",
      "execution_count": null,
      "metadata": {
        "id": "weZzj0-KQ2kP"
      },
      "outputs": [],
      "source": [
        "# Versão da Linguagem Python\n",
        "from platform import python_version\n",
        "print('Versão da Linguagem Python Usada Neste Jupyter Notebook:', python_version())"
      ]
    },
    {
      "cell_type": "markdown",
      "metadata": {
        "id": "5l6oRX6oQ2kQ"
      },
      "source": [
        "#### Pressione as teclas shift e enter para executar o código em uma célula ou pressione o botão Run no menu superior."
      ]
    },
    {
      "cell_type": "markdown",
      "metadata": {
        "id": "t4s6b8fIQ2kQ"
      },
      "source": [
        "## <font color='blue'>Recapitulando</font>"
      ]
    },
    {
      "cell_type": "markdown",
      "metadata": {
        "id": "X6b-QDkyQ2kR"
      },
      "source": [
        "### Operações Aritméticas"
      ]
    },
    {
      "cell_type": "code",
      "execution_count": null,
      "metadata": {
        "id": "0Jl1OkLSQ2kR"
      },
      "outputs": [],
      "source": [
        "# Soma\n",
        "4 + 4"
      ]
    },
    {
      "cell_type": "code",
      "execution_count": null,
      "metadata": {
        "id": "uRWEwDJ5Q2kR"
      },
      "outputs": [],
      "source": [
        "# Subtração\n",
        "4 - 3"
      ]
    },
    {
      "cell_type": "code",
      "execution_count": null,
      "metadata": {
        "id": "65noQLvnQ2kS"
      },
      "outputs": [],
      "source": [
        "# Multiplicação\n",
        "3 * 3"
      ]
    },
    {
      "cell_type": "code",
      "execution_count": null,
      "metadata": {
        "id": "hk4eNHEJQ2kS"
      },
      "outputs": [],
      "source": [
        "# Divisão\n",
        "3 / 2"
      ]
    },
    {
      "cell_type": "code",
      "execution_count": null,
      "metadata": {
        "id": "s8RzSVS4Q2kS"
      },
      "outputs": [],
      "source": [
        "# Potência\n",
        "4 ** 2"
      ]
    },
    {
      "cell_type": "code",
      "execution_count": null,
      "metadata": {
        "id": "VsxfsCzgQ2kS"
      },
      "outputs": [],
      "source": [
        "# Módulo\n",
        "10 % 3"
      ]
    },
    {
      "cell_type": "markdown",
      "metadata": {
        "id": "QyoDKsIdQ2kS"
      },
      "source": [
        "### Função Type"
      ]
    },
    {
      "cell_type": "code",
      "execution_count": null,
      "metadata": {
        "id": "umvJslGTQ2kS"
      },
      "outputs": [],
      "source": [
        "type(5)"
      ]
    },
    {
      "cell_type": "code",
      "execution_count": null,
      "metadata": {
        "id": "6v3xQCC_Q2kS"
      },
      "outputs": [],
      "source": [
        "type(5.0)"
      ]
    },
    {
      "cell_type": "code",
      "execution_count": null,
      "metadata": {
        "id": "viyWdk1zQ2kT"
      },
      "outputs": [],
      "source": [
        "a = 'Estou estudando na Fatec Votorantim'\n",
        "type(a)"
      ]
    },
    {
      "cell_type": "markdown",
      "metadata": {
        "id": "OLpiyVYGQ2kT"
      },
      "source": [
        "### Operações com Números Float"
      ]
    },
    {
      "cell_type": "code",
      "execution_count": null,
      "metadata": {
        "id": "lpdey7InQ2kT"
      },
      "outputs": [],
      "source": [
        "3.1 + 6.4"
      ]
    },
    {
      "cell_type": "code",
      "execution_count": null,
      "metadata": {
        "id": "fKBdj1f4Q2kT"
      },
      "outputs": [],
      "source": [
        "4 + 4.0"
      ]
    },
    {
      "cell_type": "code",
      "execution_count": null,
      "metadata": {
        "id": "kFXvUOhgQ2kT"
      },
      "outputs": [],
      "source": [
        "4 + 4"
      ]
    },
    {
      "cell_type": "code",
      "execution_count": null,
      "metadata": {
        "id": "p2leHV7UQ2kT"
      },
      "outputs": [],
      "source": [
        "# Resultado é um número float\n",
        "4 / 2"
      ]
    },
    {
      "cell_type": "code",
      "execution_count": null,
      "metadata": {
        "id": "u5UeGulIQ2kT"
      },
      "outputs": [],
      "source": [
        "# Resultado é um número inteiro\n",
        "4 // 2"
      ]
    },
    {
      "cell_type": "code",
      "execution_count": null,
      "metadata": {
        "id": "drSpBaitQ2kT"
      },
      "outputs": [],
      "source": [
        "4 / 3.0"
      ]
    },
    {
      "cell_type": "code",
      "execution_count": null,
      "metadata": {
        "id": "COREssrlQ2kT"
      },
      "outputs": [],
      "source": [
        "4 // 3.0"
      ]
    },
    {
      "cell_type": "markdown",
      "metadata": {
        "id": "zQnnJj34Q2kT"
      },
      "source": [
        "### Conversão"
      ]
    },
    {
      "cell_type": "code",
      "execution_count": null,
      "metadata": {
        "id": "BwZESX9zQ2kT"
      },
      "outputs": [],
      "source": [
        "float(9)"
      ]
    },
    {
      "cell_type": "code",
      "execution_count": null,
      "metadata": {
        "id": "07GBPGmTQ2kT"
      },
      "outputs": [],
      "source": [
        "int(6.0)"
      ]
    },
    {
      "cell_type": "code",
      "execution_count": null,
      "metadata": {
        "id": "Rnq7kBE1Q2kT"
      },
      "outputs": [],
      "source": [
        "int(6.5)"
      ]
    },
    {
      "cell_type": "code",
      "execution_count": null,
      "metadata": {
        "id": "onCFJx6OQ2kT"
      },
      "outputs": [],
      "source": [
        "int(6.6)"
      ]
    },
    {
      "cell_type": "code",
      "execution_count": null,
      "metadata": {
        "id": "MRfH7laRQ2kU"
      },
      "outputs": [],
      "source": [
        "round(6.5)"
      ]
    },
    {
      "cell_type": "code",
      "execution_count": null,
      "metadata": {
        "id": "jJ_TuE5IQ2kU"
      },
      "outputs": [],
      "source": [
        "round(6.6)"
      ]
    },
    {
      "cell_type": "markdown",
      "metadata": {
        "id": "u5fgHy6QQ2kU"
      },
      "source": [
        "### Hexadecimal e Binário"
      ]
    },
    {
      "cell_type": "code",
      "execution_count": null,
      "metadata": {
        "id": "9RV-v5MaQ2kU"
      },
      "outputs": [],
      "source": [
        "hex(394)"
      ]
    },
    {
      "cell_type": "code",
      "execution_count": null,
      "metadata": {
        "id": "lhTWo2W0Q2kU"
      },
      "outputs": [],
      "source": [
        "hex(217)"
      ]
    },
    {
      "cell_type": "code",
      "execution_count": null,
      "metadata": {
        "id": "huMo0t0LQ2kU"
      },
      "outputs": [],
      "source": [
        "bin(286)"
      ]
    },
    {
      "cell_type": "code",
      "execution_count": null,
      "metadata": {
        "id": "kUmLp6-6Q2kU"
      },
      "outputs": [],
      "source": [
        "bin(390)"
      ]
    },
    {
      "cell_type": "markdown",
      "metadata": {
        "id": "M9T7-Ej0Q2kU"
      },
      "source": [
        "### Funções abs, round e pow"
      ]
    },
    {
      "cell_type": "code",
      "execution_count": null,
      "metadata": {
        "id": "olGCV07LQ2kU"
      },
      "outputs": [],
      "source": [
        "# Retorna o valor absoluto\n",
        "abs(-8)"
      ]
    },
    {
      "cell_type": "code",
      "execution_count": null,
      "metadata": {
        "id": "2zBr2fF0Q2kU"
      },
      "outputs": [],
      "source": [
        "# Retorna o valor absoluto\n",
        "abs(8)"
      ]
    },
    {
      "cell_type": "code",
      "execution_count": null,
      "metadata": {
        "id": "ZfHeAQ0LQ2kd"
      },
      "outputs": [],
      "source": [
        "# Retorna o valor com duas casas decimais\n",
        "round(3.14151922, 2)"
      ]
    },
    {
      "cell_type": "code",
      "execution_count": null,
      "metadata": {
        "id": "H5jvqH0hQ2kd"
      },
      "outputs": [],
      "source": [
        "# Potência\n",
        "pow(4,2)"
      ]
    },
    {
      "cell_type": "code",
      "execution_count": null,
      "metadata": {
        "id": "JuTXHwA0Q2kd"
      },
      "outputs": [],
      "source": [
        "# Potência\n",
        "pow(5,3)"
      ]
    },
    {
      "cell_type": "markdown",
      "metadata": {
        "id": "u2JGkV5nQ2kd"
      },
      "source": [
        "### Trabalhando com Variáveis"
      ]
    },
    {
      "cell_type": "code",
      "execution_count": null,
      "metadata": {
        "id": "LgyUWWCvQ2kd"
      },
      "outputs": [],
      "source": [
        "# Atribuindo o valor 1 à variável var_teste\n",
        "var_teste = 1"
      ]
    },
    {
      "cell_type": "code",
      "execution_count": null,
      "metadata": {
        "id": "epnUfo5_Q2kd"
      },
      "outputs": [],
      "source": [
        "# Imprimindo o valor da variável\n",
        "var_teste"
      ]
    },
    {
      "cell_type": "code",
      "execution_count": null,
      "metadata": {
        "id": "7o0Ido14Q2kd"
      },
      "outputs": [],
      "source": [
        "# Imprimindo o valor da variável\n",
        "print(var_teste)"
      ]
    },
    {
      "cell_type": "code",
      "execution_count": null,
      "metadata": {
        "id": "WtXHthdhQ2kd"
      },
      "outputs": [],
      "source": [
        "# Não podemos utilizar uma variável que não foi definida. Leia a mensagem de erro.\n",
        "my_var"
      ]
    },
    {
      "cell_type": "code",
      "execution_count": null,
      "metadata": {
        "id": "pNvCEAyHQ2kd"
      },
      "outputs": [],
      "source": [
        "var_teste = 2"
      ]
    },
    {
      "cell_type": "code",
      "execution_count": null,
      "metadata": {
        "id": "QUp3JxTAQ2ke"
      },
      "outputs": [],
      "source": [
        "var_teste"
      ]
    },
    {
      "cell_type": "code",
      "execution_count": null,
      "metadata": {
        "id": "zrq-s0XmQ2ke"
      },
      "outputs": [],
      "source": [
        "type(var_teste)"
      ]
    },
    {
      "cell_type": "code",
      "execution_count": null,
      "metadata": {
        "id": "mUtIGWR3Q2ke"
      },
      "outputs": [],
      "source": [
        "var_teste = 9.5"
      ]
    },
    {
      "cell_type": "code",
      "execution_count": null,
      "metadata": {
        "id": "XMpS9EAQQ2ke"
      },
      "outputs": [],
      "source": [
        "type(var_teste)"
      ]
    },
    {
      "cell_type": "code",
      "execution_count": null,
      "metadata": {
        "id": "yyd2oPXxQ2ke"
      },
      "outputs": [],
      "source": [
        "x = 1"
      ]
    },
    {
      "cell_type": "code",
      "execution_count": null,
      "metadata": {
        "id": "SWZ4vr_8Q2ke"
      },
      "outputs": [],
      "source": [
        "x"
      ]
    },
    {
      "cell_type": "markdown",
      "metadata": {
        "id": "ec1JXQmlQ2ke"
      },
      "source": [
        "### Declaração Múltipla"
      ]
    },
    {
      "cell_type": "code",
      "execution_count": null,
      "metadata": {
        "id": "I0drdqpOQ2ke"
      },
      "outputs": [],
      "source": [
        "pessoa1, pessoa2, pessoa3 = \"Bob\", \"Maria\", \"Ana\""
      ]
    },
    {
      "cell_type": "code",
      "execution_count": null,
      "metadata": {
        "id": "wVF76OxyQ2ke"
      },
      "outputs": [],
      "source": [
        "pessoa1"
      ]
    },
    {
      "cell_type": "code",
      "execution_count": null,
      "metadata": {
        "id": "zL6gRWnbQ2kf"
      },
      "outputs": [],
      "source": [
        "pessoa2"
      ]
    },
    {
      "cell_type": "code",
      "execution_count": null,
      "metadata": {
        "id": "XgWWe5YzQ2kf"
      },
      "outputs": [],
      "source": [
        "pessoa3"
      ]
    },
    {
      "cell_type": "code",
      "execution_count": null,
      "metadata": {
        "id": "KgwS4vmyQ2kf"
      },
      "outputs": [],
      "source": [
        "fruta1 = fruta2 = fruta3 = \"Melancia\""
      ]
    },
    {
      "cell_type": "code",
      "execution_count": null,
      "metadata": {
        "id": "jgCxgO6LQ2kf"
      },
      "outputs": [],
      "source": [
        "fruta1"
      ]
    },
    {
      "cell_type": "code",
      "execution_count": null,
      "metadata": {
        "id": "CH7TqvulQ2kf"
      },
      "outputs": [],
      "source": [
        "fruta2"
      ]
    },
    {
      "cell_type": "code",
      "execution_count": null,
      "metadata": {
        "id": "2nc5aNhLQ2kf"
      },
      "outputs": [],
      "source": [
        "fruta3"
      ]
    },
    {
      "cell_type": "code",
      "execution_count": null,
      "metadata": {
        "id": "KismZWCuQ2kf"
      },
      "outputs": [],
      "source": [
        "# Fique atento!!! Python é case-sensitive. Criamos a variável fruta2, mas não a variável Fruta2.\n",
        "# Letras maiúsculas e minúsculas tem diferença no nome da variável.\n",
        "Fruta2"
      ]
    },
    {
      "cell_type": "markdown",
      "metadata": {
        "id": "dpfF0ilwQ2kf"
      },
      "source": [
        "> Pode-se usar letras, números e underline em nome de variável (mas não se pode começar com números)."
      ]
    },
    {
      "cell_type": "code",
      "execution_count": null,
      "metadata": {
        "id": "UPM2yPHgQ2kf"
      },
      "outputs": [],
      "source": [
        "x1 = 50"
      ]
    },
    {
      "cell_type": "code",
      "execution_count": null,
      "metadata": {
        "id": "3g7dAmp5Q2kf"
      },
      "outputs": [],
      "source": [
        "x1"
      ]
    },
    {
      "cell_type": "code",
      "execution_count": null,
      "metadata": {
        "id": "YILiF-eWQ2kg"
      },
      "outputs": [],
      "source": [
        "# Mensagem de erro, pois a linguagem Python não permite nomes de variáveis que iniciem com números\n",
        "1x = 50"
      ]
    },
    {
      "cell_type": "markdown",
      "metadata": {
        "id": "PVRA13T8Q2kg"
      },
      "source": [
        "> Não se pode usar palavras reservadas como nome de variável\n",
        "\n",
        "- False      \n",
        "- class      \n",
        "- finally    \n",
        "- is         \n",
        "- return\n",
        "- None       \n",
        "- continue   \n",
        "- for        \n",
        "- lambda     \n",
        "- try\n",
        "- True       \n",
        "- def        \n",
        "- from       \n",
        "- nonlocal   \n",
        "- while\n",
        "- and        \n",
        "- del        \n",
        "- global     \n",
        "- not        \n",
        "- with\n",
        "- as         \n",
        "- elif       \n",
        "- if         \n",
        "- or         \n",
        "- yield\n",
        "- assert     \n",
        "- else       \n",
        "- import     \n",
        "- pass\n",
        "- break      \n",
        "- except     \n",
        "- in         \n",
        "- raise"
      ]
    },
    {
      "cell_type": "code",
      "execution_count": null,
      "metadata": {
        "id": "AjbMli1QQ2kg"
      },
      "outputs": [],
      "source": [
        "# Não podemos usar palavras reservadas como nome de variável\n",
        "break = 1"
      ]
    },
    {
      "cell_type": "markdown",
      "metadata": {
        "id": "1fmXJpHZQ2kg"
      },
      "source": [
        "### Variáveis Atribuídas a Outras Variáveis e Ordem dos Operadores"
      ]
    },
    {
      "cell_type": "code",
      "execution_count": null,
      "metadata": {
        "id": "L8HsN2rAQ2kg"
      },
      "outputs": [],
      "source": [
        "largura = 2"
      ]
    },
    {
      "cell_type": "code",
      "execution_count": null,
      "metadata": {
        "id": "nSb6W5biQ2kg"
      },
      "outputs": [],
      "source": [
        "altura = 4"
      ]
    },
    {
      "cell_type": "code",
      "execution_count": null,
      "metadata": {
        "id": "BgSlK8YEQ2kg"
      },
      "outputs": [],
      "source": [
        "area = largura * altura"
      ]
    },
    {
      "cell_type": "code",
      "execution_count": null,
      "metadata": {
        "id": "U5mWdLpiQ2kg"
      },
      "outputs": [],
      "source": [
        "area"
      ]
    },
    {
      "cell_type": "code",
      "execution_count": null,
      "metadata": {
        "id": "86XqN6mrQ2kg"
      },
      "outputs": [],
      "source": [
        "perimetro = 2 * largura + 2 * altura"
      ]
    },
    {
      "cell_type": "code",
      "execution_count": null,
      "metadata": {
        "id": "cvrrb1djQ2kg"
      },
      "outputs": [],
      "source": [
        "perimetro"
      ]
    },
    {
      "cell_type": "code",
      "execution_count": null,
      "metadata": {
        "id": "3ZsO6ajxQ2kh"
      },
      "outputs": [],
      "source": [
        "# A ordem dos operadores é a mesma seguida na Matemática\n",
        "perimetro = 2 * (largura + 2)  * altura"
      ]
    },
    {
      "cell_type": "code",
      "execution_count": null,
      "metadata": {
        "id": "b0pMvNyfQ2kh"
      },
      "outputs": [],
      "source": [
        "perimetro"
      ]
    },
    {
      "cell_type": "markdown",
      "metadata": {
        "id": "JlT-08-OQ2kh"
      },
      "source": [
        "### Operações com Variáveis"
      ]
    },
    {
      "cell_type": "code",
      "execution_count": null,
      "metadata": {
        "id": "jQERqg7iQ2kh"
      },
      "outputs": [],
      "source": [
        "idade1 = 25"
      ]
    },
    {
      "cell_type": "code",
      "execution_count": null,
      "metadata": {
        "id": "48Yc1A9lQ2kh"
      },
      "outputs": [],
      "source": [
        "idade2 = 35"
      ]
    },
    {
      "cell_type": "code",
      "execution_count": null,
      "metadata": {
        "id": "okSlOqKnQ2kh"
      },
      "outputs": [],
      "source": [
        "idade1 + idade2"
      ]
    },
    {
      "cell_type": "code",
      "execution_count": null,
      "metadata": {
        "id": "pp75AjBMQ2kh"
      },
      "outputs": [],
      "source": [
        "idade2 - idade1"
      ]
    },
    {
      "cell_type": "code",
      "execution_count": null,
      "metadata": {
        "id": "urXWlA1DQ2ki"
      },
      "outputs": [],
      "source": [
        "idade2 * idade1"
      ]
    },
    {
      "cell_type": "code",
      "execution_count": null,
      "metadata": {
        "id": "2RHkiHZlQ2ki"
      },
      "outputs": [],
      "source": [
        "idade2 / idade1"
      ]
    },
    {
      "cell_type": "code",
      "execution_count": null,
      "metadata": {
        "id": "23nf3a6GQ2ki"
      },
      "outputs": [],
      "source": [
        "idade2 % idade1"
      ]
    },
    {
      "cell_type": "markdown",
      "metadata": {
        "id": "EI9v58AFQ2ki"
      },
      "source": [
        "### Concatenação de Variáveis"
      ]
    },
    {
      "cell_type": "code",
      "execution_count": null,
      "metadata": {
        "id": "xd4XuygLQ2ki"
      },
      "outputs": [],
      "source": [
        "nome = \"Bob\""
      ]
    },
    {
      "cell_type": "code",
      "execution_count": null,
      "metadata": {
        "id": "FSCwnzC6Q2ki"
      },
      "outputs": [],
      "source": [
        "sobrenome = \"Marley\""
      ]
    },
    {
      "cell_type": "code",
      "execution_count": null,
      "metadata": {
        "id": "Yq2OvBPkQ2kj"
      },
      "outputs": [],
      "source": [
        "fullName = nome + \" \" + sobrenome"
      ]
    },
    {
      "cell_type": "code",
      "execution_count": null,
      "metadata": {
        "id": "_OAg0AU1Q2kj"
      },
      "outputs": [],
      "source": [
        "fullName"
      ]
    },
    {
      "cell_type": "code",
      "execution_count": null,
      "metadata": {
        "id": "Eo7VluyUQ2kj"
      },
      "outputs": [],
      "source": []
    },
    {
      "cell_type": "markdown",
      "metadata": {
        "id": "P4DHzhg8Q2kj"
      },
      "source": [
        "### Criando uma String\n",
        "\n",
        "Para criar uma string em Python você pode usar aspas simples ou duplas. Por exemplo:"
      ]
    },
    {
      "cell_type": "code",
      "execution_count": null,
      "metadata": {
        "id": "vuYFDexFQ2kj"
      },
      "outputs": [],
      "source": [
        "# Uma única palavra\n",
        "'Oi'"
      ]
    },
    {
      "cell_type": "code",
      "execution_count": null,
      "metadata": {
        "id": "RY_aJvXeQ2kj"
      },
      "outputs": [],
      "source": [
        "# Uma frase\n",
        "'Criando uma string em Python'"
      ]
    },
    {
      "cell_type": "code",
      "execution_count": null,
      "metadata": {
        "id": "0VSNO4PvQ2kj"
      },
      "outputs": [],
      "source": [
        "# Podemos usar aspas duplas\n",
        "\"Podemos usar aspas duplas ou simples para strings em Python\""
      ]
    },
    {
      "cell_type": "code",
      "execution_count": null,
      "metadata": {
        "id": "x28mBvXQQ2kj"
      },
      "outputs": [],
      "source": [
        "# Você pode combinar aspas duplas e simples\n",
        "\"Testando strings em 'Python'\""
      ]
    },
    {
      "cell_type": "markdown",
      "metadata": {
        "id": "gTP2CnBnQ2kj"
      },
      "source": [
        "### Imprimindo uma String"
      ]
    },
    {
      "cell_type": "code",
      "execution_count": null,
      "metadata": {
        "id": "d7Te09ukQ2kj"
      },
      "outputs": [],
      "source": [
        "print ('Testando Strings em Python')"
      ]
    },
    {
      "cell_type": "code",
      "execution_count": null,
      "metadata": {
        "id": "W5HPYuGZQ2kj"
      },
      "outputs": [],
      "source": [
        "print ('Testando \\n Strings \\n em \\n Python')"
      ]
    },
    {
      "cell_type": "code",
      "execution_count": null,
      "metadata": {
        "scrolled": true,
        "id": "a-bSbsYUQ2kj"
      },
      "outputs": [],
      "source": [
        "print ('\\n')"
      ]
    },
    {
      "cell_type": "markdown",
      "metadata": {
        "id": "MTB5vVV8Q2kj"
      },
      "source": [
        "### Indexando Strings"
      ]
    },
    {
      "cell_type": "code",
      "execution_count": null,
      "metadata": {
        "id": "-pXuDyClQ2kk"
      },
      "outputs": [],
      "source": [
        "# Atribuindo uma string\n",
        "s = 'Projet pyPRO'"
      ]
    },
    {
      "cell_type": "code",
      "execution_count": null,
      "metadata": {
        "id": "fw48H0HEQ2kk"
      },
      "outputs": [],
      "source": [
        "print(s)"
      ]
    },
    {
      "cell_type": "markdown",
      "metadata": {
        "id": "rezMl3g7Q2kk"
      },
      "source": [
        "> Indexação em Python começar por zero."
      ]
    },
    {
      "cell_type": "code",
      "execution_count": null,
      "metadata": {
        "id": "3TeXT6BcQ2kk"
      },
      "outputs": [],
      "source": [
        "# Primeiro elemento da string\n",
        "s[0]"
      ]
    },
    {
      "cell_type": "code",
      "execution_count": null,
      "metadata": {
        "id": "PgCzx2xwQ2kk"
      },
      "outputs": [],
      "source": [
        "s[1]"
      ]
    },
    {
      "cell_type": "code",
      "execution_count": null,
      "metadata": {
        "id": "CBNSawRVQ2kk"
      },
      "outputs": [],
      "source": [
        "s[2]"
      ]
    },
    {
      "cell_type": "code",
      "execution_count": null,
      "metadata": {
        "id": "Ia-DOvoLQ2kk"
      },
      "outputs": [],
      "source": [
        "s[3]"
      ]
    },
    {
      "cell_type": "code",
      "execution_count": null,
      "metadata": {
        "id": "Lh2865_gQ2kk"
      },
      "outputs": [],
      "source": [
        "s[4]"
      ]
    },
    {
      "cell_type": "markdown",
      "metadata": {
        "id": "vyXSHRpJQ2kl"
      },
      "source": [
        "Podemos usar um : para executar um slicing que faz a leitura de tudo até um ponto designado. Por exemplo:"
      ]
    },
    {
      "cell_type": "code",
      "execution_count": null,
      "metadata": {
        "id": "yD6iYSm-Q2kl"
      },
      "outputs": [],
      "source": [
        "# Retorna todos os elementos da string, começando pela posição\n",
        "# (lembre-se que Python começa a indexação pela posição 0),\n",
        "# até o fim da string.\n",
        "s[1:]"
      ]
    },
    {
      "cell_type": "code",
      "execution_count": null,
      "metadata": {
        "id": "GjJhmaEyQ2kl"
      },
      "outputs": [],
      "source": [
        "# A string original permanece inalterada\n",
        "s"
      ]
    },
    {
      "cell_type": "code",
      "execution_count": null,
      "metadata": {
        "id": "PrNQw7QkQ2kl"
      },
      "outputs": [],
      "source": [
        "# Retorna tudo até a posição de índice 3\n",
        "s[:3]"
      ]
    },
    {
      "cell_type": "code",
      "execution_count": null,
      "metadata": {
        "id": "4ahrJufpQ2kl"
      },
      "outputs": [],
      "source": [
        "# Retorna tudo até a posição de índice 4\n",
        "s[:4]"
      ]
    },
    {
      "cell_type": "code",
      "execution_count": null,
      "metadata": {
        "id": "D9LIaZUIQ2kl"
      },
      "outputs": [],
      "source": [
        "# Nós também podemos usar a indexação negativa e ler de trás para frente\n",
        "s[-1]"
      ]
    },
    {
      "cell_type": "code",
      "execution_count": null,
      "metadata": {
        "id": "f13SIt9RQ2kl"
      },
      "outputs": [],
      "source": [
        "# Retornar tudo, exceto a última letra\n",
        "s[:-1]"
      ]
    },
    {
      "cell_type": "markdown",
      "metadata": {
        "id": "CXDDHaJZQ2kl"
      },
      "source": [
        "Nós também podemos usar a notação de índice e fatiar a string em pedaços específicos (o padrão é 1).\n",
        "\n",
        "Por exemplo, podemos usar dois pontos duas vezes em uma linha e, em seguida, um número que especifica a frequência para retornar elementos."
      ]
    },
    {
      "cell_type": "code",
      "execution_count": null,
      "metadata": {
        "id": "JoSkE3BRQ2kl"
      },
      "outputs": [],
      "source": [
        "s[::1]"
      ]
    },
    {
      "cell_type": "code",
      "execution_count": null,
      "metadata": {
        "id": "Yr0zHveQQ2kl"
      },
      "outputs": [],
      "source": [
        "s[::2]"
      ]
    },
    {
      "cell_type": "code",
      "execution_count": null,
      "metadata": {
        "id": "__qNFr6bQ2kl"
      },
      "outputs": [],
      "source": [
        "s[::-1]"
      ]
    },
    {
      "cell_type": "markdown",
      "metadata": {
        "id": "Wt9L8Nb8Q2kl"
      },
      "source": [
        "### Propriedades de Strings"
      ]
    },
    {
      "cell_type": "code",
      "execution_count": null,
      "metadata": {
        "id": "R7uqo1alQ2kl"
      },
      "outputs": [],
      "source": [
        "s"
      ]
    },
    {
      "cell_type": "code",
      "execution_count": null,
      "metadata": {
        "id": "xky_LJ1bQ2km"
      },
      "outputs": [],
      "source": [
        "# Alterando um caracter (não é possível alterar um elemento da string)\n",
        "s[0] = 'x'"
      ]
    },
    {
      "cell_type": "code",
      "execution_count": null,
      "metadata": {
        "id": "LMt1tL1PQ2km"
      },
      "outputs": [],
      "source": [
        "# Concatenando strings\n",
        "s + ' é a melhor maneira de estar preparado para o mercado de trabalho em Ciência de Dados!'"
      ]
    },
    {
      "cell_type": "code",
      "execution_count": null,
      "metadata": {
        "id": "toFwebs4Q2km"
      },
      "outputs": [],
      "source": [
        "s = s + ' é a melhor maneira de estar preparado para o mercado de trabalho em Ciência de Dados!'"
      ]
    },
    {
      "cell_type": "code",
      "execution_count": null,
      "metadata": {
        "id": "mQefE_04Q2km"
      },
      "outputs": [],
      "source": [
        "print(s)"
      ]
    },
    {
      "cell_type": "code",
      "execution_count": null,
      "metadata": {
        "id": "LtsTbZbPQ2km"
      },
      "outputs": [],
      "source": [
        "# Podemos usar o símbolo de multiplicação para criar repetição!\n",
        "letra = 'w'"
      ]
    },
    {
      "cell_type": "code",
      "execution_count": null,
      "metadata": {
        "id": "6rKMyv4yQ2km"
      },
      "outputs": [],
      "source": [
        "letra * 3"
      ]
    },
    {
      "cell_type": "markdown",
      "metadata": {
        "id": "kPjLVrQ5Q2km"
      },
      "source": [
        "## <font color='blue'>Estrutura Sequencial</font>"
      ]
    },
    {
      "cell_type": "markdown",
      "metadata": {
        "id": "BsFEd-6pQ2km"
      },
      "source": [
        "## Pseudocódigo 1 - Calcular a Área de Um Paralelograma\n",
        "\n",
        "Nota: Um paralelogramo é um quadrilátero com lados opostos paralelos (e portanto ângulos opostos iguais). Um quadrilátero com lados iguais é chamado de losango e um paralelogramo cujos ângulos são todos ângulos retos é chamado de retângulo."
      ]
    },
    {
      "cell_type": "markdown",
      "metadata": {
        "id": "mMv_qCbPQ2km"
      },
      "source": [
        "Inicie\n",
        "    \n",
        "    Exiba \"Bem-vindo ao Calculador de Área de Paralelogramo\"\n",
        "    Peça para o usuário inserir o comprimento da base\n",
        "    Armazene o comprimento da base em uma variável\n",
        "    Peça para o usuário inserir a altura\n",
        "    Armazene a altura em uma variável\n",
        "    Calcule a área do paralelogramo:  base * altura\n",
        "    Armazene o resultado em uma variável\n",
        "    Exiba o resultado\n",
        "    \n",
        "Fim\n"
      ]
    },
    {
      "cell_type": "markdown",
      "metadata": {
        "id": "yShbQnntQ2km"
      },
      "source": [
        "## Convertendo o Pseudocódigo 1 em Programa Python"
      ]
    },
    {
      "cell_type": "code",
      "execution_count": null,
      "metadata": {
        "id": "mbID2dajQ2kn"
      },
      "outputs": [],
      "source": [
        "print(\"Bem-vindo ao Calculador de Área de Paralelogramo\")"
      ]
    },
    {
      "cell_type": "code",
      "execution_count": null,
      "metadata": {
        "id": "g5G7VmQ_Q2kn"
      },
      "outputs": [],
      "source": [
        "base = float(input(\"Insira o comprimento da base: \"))"
      ]
    },
    {
      "cell_type": "code",
      "execution_count": null,
      "metadata": {
        "id": "tcj2KI6JQ2kn"
      },
      "outputs": [],
      "source": [
        "altura = float(input(\"Insira a altura: \"))"
      ]
    },
    {
      "cell_type": "code",
      "execution_count": null,
      "metadata": {
        "id": "X_o4MZhoQ2kn"
      },
      "outputs": [],
      "source": [
        "area = base * altura"
      ]
    },
    {
      "cell_type": "code",
      "execution_count": null,
      "metadata": {
        "id": "fP-_DNNdQ2kn"
      },
      "outputs": [],
      "source": [
        "print(\"A área do paralelogramo é: \", area)"
      ]
    },
    {
      "cell_type": "markdown",
      "metadata": {
        "id": "kQg858qSQ2kn"
      },
      "source": [
        "### EXEMPLO 01\n",
        "Calcular a área de um quadrilátero, com dois lados iguais. Para isso faz a leitura de dois números inteiros, representando os lados e imprime os valores lidos e a área calculada.\n",
        "\n",
        "base, altura, area representam os nomes das variáveis – podem ser do tipo inteiro ou do tipo real.\n"
      ]
    },
    {
      "cell_type": "code",
      "execution_count": null,
      "metadata": {
        "id": "buLL8ngGQ2kn"
      },
      "outputs": [],
      "source": [
        "base = float(input('Entre com a base:'))\n",
        "altura = float(input('Entre com a altura:'))\n",
        "area = base * altura\n",
        "print('A área é = ', area)"
      ]
    },
    {
      "cell_type": "markdown",
      "metadata": {
        "id": "o4J9ph9gQ2kn"
      },
      "source": [
        "## EXEMPLO 02\n",
        "Ler a temperatura em °C e apresentar em °F.\n",
        "\n",
        "Dados : F=(9*C+160)/5."
      ]
    },
    {
      "cell_type": "code",
      "execution_count": null,
      "metadata": {
        "id": "6yXUS18lQ2kn"
      },
      "outputs": [],
      "source": [
        "celsius = float(input(\"Entre com a temperatura em C:\"))\n",
        "fare = (9 * celsius + 160) / 5\n",
        "print(\"A temperatura em F = \", fare)"
      ]
    },
    {
      "cell_type": "code",
      "execution_count": null,
      "metadata": {
        "id": "F4jtayFuQ2ko"
      },
      "outputs": [],
      "source": [
        "## EXEMPLO 03\n",
        "CALCULAR A DISTÂNCIA ENTRE 2 PONTOS."
      ]
    },
    {
      "cell_type": "markdown",
      "metadata": {
        "id": "sXJwmo4BQ2ko"
      },
      "source": [
        "![Figura](exemplo03.JPG)"
      ]
    },
    {
      "cell_type": "code",
      "execution_count": null,
      "metadata": {
        "id": "pz457WQYQ2ko"
      },
      "outputs": [],
      "source": [
        "from math import pow, sqrt\n",
        "\n",
        "x1 = float(input(\"Entre com x1: \"))\n",
        "y1 = float(input(\"Entre com y1: \"))\n",
        "x2 = float(input(\"Entre com x2: \"))\n",
        "y2 = float(input(\"Entre com y2: \"))\n",
        "dx = x2 - x1\n",
        "dy = y2 - y1\n",
        "d = sqrt(pow(dx,2)+pow(dy,2))\n",
        "print(\"Distância = \", d)"
      ]
    },
    {
      "cell_type": "markdown",
      "metadata": {
        "id": "y0MLs151Q2ko"
      },
      "source": [
        "## <font color='blue'>Exercícios</font>"
      ]
    },
    {
      "cell_type": "markdown",
      "metadata": {
        "id": "dS4RurplQ2ko"
      },
      "source": [
        "1. Faça um programa para ler e escrever na tela o seu nome e a sua idade."
      ]
    },
    {
      "cell_type": "code",
      "execution_count": null,
      "metadata": {
        "colab": {
          "base_uri": "https://localhost:8080/"
        },
        "id": "iajznzS_Q2ko",
        "outputId": "25447a4b-50ed-4e5c-9c1f-f2feb849b590"
      },
      "outputs": [
        {
          "output_type": "stream",
          "name": "stdout",
          "text": [
            "Digite seu nome:Bruna\n",
            "Digite sua idade:19\n",
            "Seu nome é: Bruna ; e sua idade é: 19\n"
          ]
        }
      ],
      "source": [
        "nome = input(\"Digite seu nome:\")\n",
        "idade = int(input(\"Digite sua idade:\"))\n",
        "\n",
        "print(\"Seu nome é:\", nome, \"; e sua idade é:\", idade)"
      ]
    },
    {
      "cell_type": "markdown",
      "metadata": {
        "id": "C5WKPWkiQ2ko"
      },
      "source": [
        "2. Faça um programa para ler e escrever na tela o seu nome e a sua idade."
      ]
    },
    {
      "cell_type": "code",
      "execution_count": null,
      "metadata": {
        "colab": {
          "base_uri": "https://localhost:8080/"
        },
        "id": "GhNKKrPbQ2ko",
        "outputId": "c828d22b-e885-494c-a4ab-d79e58b6b9ce"
      },
      "outputs": [
        {
          "output_type": "stream",
          "name": "stdout",
          "text": [
            "Digite seu nome:Yan\n",
            "Digite sua idade:19\n",
            "Seu nome é: Yan ; e sua idade é: 19\n"
          ]
        }
      ],
      "source": [
        "nome = input(\"Digite seu nome:\")\n",
        "idade = int(input(\"Digite sua idade:\"))\n",
        "\n",
        "print(\"Seu nome é:\", nome, \"; e sua idade é:\", idade)"
      ]
    },
    {
      "cell_type": "markdown",
      "metadata": {
        "id": "8r_jfwT3Q2ko"
      },
      "source": [
        "3. Faça um algoritmo que receba o ano de nascimento de uma pessoa e o ano atual e mostre:\n",
        "A idade dessa pessoa em anos;\n",
        "A idade dessa pessoa em meses;\n",
        "A idade dessa pessoa em dias;\n",
        "A idade dessa pessoa em semanas."
      ]
    },
    {
      "cell_type": "code",
      "execution_count": null,
      "metadata": {
        "colab": {
          "base_uri": "https://localhost:8080/"
        },
        "id": "l4WwpOM6Q2ko",
        "outputId": "f7f122a6-00e5-47fc-dbd4-050312c74346"
      },
      "outputs": [
        {
          "output_type": "stream",
          "name": "stdout",
          "text": [
            "Digite o seu ano de nascimento:2006\n",
            "Digite o ano atual:2025\n",
            "Sua idade em anos é: 19 ; sua idade em meses é: 228 ; sua idade em dias é: 6935 ; e sua idade em semanas é: 990.71\n"
          ]
        }
      ],
      "source": [
        "nascimento = int(input(\"Digite o seu ano de nascimento:\"))\n",
        "atual = int(input(\"Digite o ano atual:\"))\n",
        "\n",
        "idade_anos = atual - nascimento\n",
        "idade_meses = (atual - nascimento) * 12\n",
        "idade_dias = (atual - nascimento) * 365\n",
        "idade_semanas = idade_dias / 7\n",
        "\n",
        "print(\"Sua idade em anos é:\", idade_anos, \"; sua idade em meses é:\", idade_meses, \"; sua idade em dias é:\", idade_dias, \"; e sua idade em semanas é:\", round(idade_semanas,2))"
      ]
    },
    {
      "cell_type": "markdown",
      "metadata": {
        "id": "EFgMXRRnQ2ko"
      },
      "source": [
        "4. Faça um algoritmo que receba o salário de um funcionário, calcule e mostre o novo salário, sabendo-se que este sofreu um aumento de 25%."
      ]
    },
    {
      "cell_type": "code",
      "execution_count": null,
      "metadata": {
        "colab": {
          "base_uri": "https://localhost:8080/"
        },
        "id": "ScxjRtqHQ2ko",
        "outputId": "0c130e94-6d3f-43e0-e737-ad4b62c08df1"
      },
      "outputs": [
        {
          "output_type": "stream",
          "name": "stdout",
          "text": [
            "Informe seu salário:1500\n",
            "Seu novo salário é: R$ 1875.0\n"
          ]
        }
      ],
      "source": [
        "sal = float(input(\"Informe seu salário:\"))\n",
        "\n",
        "aum = sal * 0.25\n",
        "novo_sal = aum + sal\n",
        "\n",
        "print(\"Seu novo salário é: R$\", novo_sal)"
      ]
    },
    {
      "cell_type": "markdown",
      "metadata": {
        "id": "HRLnIhbUQ2ko"
      },
      "source": [
        "5. Faça um algoritmo que calcule e mostre a área de um círculo. Sabe-se que\n",
        "\tArea= π * R2\n",
        "\n",
        "\tπ = 3,115\n"
      ]
    },
    {
      "cell_type": "code",
      "execution_count": null,
      "metadata": {
        "colab": {
          "base_uri": "https://localhost:8080/"
        },
        "id": "UmhmLx8MQ2kp",
        "outputId": "7c71f95a-e45c-422a-900b-d94e47433c49"
      },
      "outputs": [
        {
          "output_type": "stream",
          "name": "stdout",
          "text": [
            "Digite o raio do círculo:10\n",
            "A área do círculo é: 311.5\n"
          ]
        }
      ],
      "source": [
        "raio = float(input(\"Digite o raio do círculo:\"))\n",
        "\n",
        "area = 3.115 * (raio**2)\n",
        "\n",
        "print(\"A área do círculo é:\", area)"
      ]
    },
    {
      "cell_type": "markdown",
      "metadata": {
        "id": "XicjGb6JQ2kp"
      },
      "source": [
        "6. Cada degrau de uma escada tem Xcm de altura. Faça um algoritmo que receba a altura de cada degrau em cm e a altura que o usuário deseja alcançar subindo a escada (em metros). Faça as conversões, calcule e mostre quantos degraus o usuário deverá subir para atingir seu objetivo.\n",
        "\n",
        "Obs: não se preocupe com a altura do usuário!"
      ]
    },
    {
      "cell_type": "code",
      "execution_count": null,
      "metadata": {
        "colab": {
          "base_uri": "https://localhost:8080/"
        },
        "id": "FAxZCAmLQ2kp",
        "outputId": "c60ae6b0-088f-4514-c9fb-db1f2e471e1a"
      },
      "outputs": [
        {
          "output_type": "stream",
          "name": "stdout",
          "text": [
            "Digite a altura do degrau (em centímetros):200\n",
            "Digite a altura que se deseja alcançar (em metros):6\n",
            "Para alcançar a altura desejada, você deve subir: 3.0 degraus.\n"
          ]
        }
      ],
      "source": [
        "altura_degrau = float(input(\"Digite a altura do degrau (em centímetros):\"))\n",
        "altura_desejo = float(input(\"Digite a altura que se deseja alcançar (em metros):\"))\n",
        "\n",
        "desejo_cm = altura_desejo * 100\n",
        "degraus = desejo_cm / altura_degrau\n",
        "\n",
        "print(\"Para alcançar a altura desejada, você deve subir:\", degraus, \"degraus.\")"
      ]
    },
    {
      "cell_type": "markdown",
      "metadata": {
        "id": "EsK1rebRQ2kp"
      },
      "source": [
        "## Fim da Aula 6"
      ]
    }
  ],
  "metadata": {
    "anaconda-cloud": {},
    "kernelspec": {
      "display_name": "Python 3 (ipykernel)",
      "language": "python",
      "name": "python3"
    },
    "language_info": {
      "codemirror_mode": {
        "name": "ipython",
        "version": 3
      },
      "file_extension": ".py",
      "mimetype": "text/x-python",
      "name": "python",
      "nbconvert_exporter": "python",
      "pygments_lexer": "ipython3",
      "version": "3.11.8"
    },
    "colab": {
      "provenance": []
    }
  },
  "nbformat": 4,
  "nbformat_minor": 0
}