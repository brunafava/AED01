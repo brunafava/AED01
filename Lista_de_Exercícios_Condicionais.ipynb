{
  "cells": [
    {
      "cell_type": "markdown",
      "metadata": {
        "id": "view-in-github",
        "colab_type": "text"
      },
      "source": [
        "<a href=\"https://colab.research.google.com/github/brunafava/AED01/blob/main/Lista_de_Exerc%C3%ADcios_Condicionais.ipynb\" target=\"_parent\"><img src=\"https://colab.research.google.com/assets/colab-badge.svg\" alt=\"Open In Colab\"/></a>"
      ]
    },
    {
      "cell_type": "code",
      "execution_count": null,
      "id": "95bb2f6f-b155-4758-ab93-f310bce9d314",
      "metadata": {
        "colab": {
          "base_uri": "https://localhost:8080/"
        },
        "id": "95bb2f6f-b155-4758-ab93-f310bce9d314",
        "outputId": "07c1f979-9471-4417-e559-3a739549e01a"
      },
      "outputs": [
        {
          "output_type": "stream",
          "name": "stdout",
          "text": [
            "Digite um número: 7\n",
            "É um número ímpar e positivo\n"
          ]
        }
      ],
      "source": [
        "# 0) Faça um algoritmo para ter um número e mostrar se ele é par ou ímpar, positivo ou negativo:\n",
        "\n",
        "num = int(input(\"Digite um número: \"))\n",
        "\n",
        "if num % 2 == 0 and num > 0:\n",
        "    print(\"É um número par e positivo\")\n",
        "elif num % 2 == 0 and num < 0:\n",
        "    print(\"É um número par e negativo\")\n",
        "elif num % 2 != 0 and num > 0:\n",
        "    print(\"É um número ímpar e positivo\")\n",
        "else:\n",
        "    print(\"É um número ímpar e negativo\")"
      ]
    },
    {
      "cell_type": "code",
      "execution_count": null,
      "id": "8599ca51-8a35-4a3c-8b54-aea46b576843",
      "metadata": {
        "colab": {
          "base_uri": "https://localhost:8080/"
        },
        "id": "8599ca51-8a35-4a3c-8b54-aea46b576843",
        "outputId": "3a585fd0-37d7-475b-ba22-48bd968c94cd"
      },
      "outputs": [
        {
          "output_type": "stream",
          "name": "stdout",
          "text": [
            "Digite um número: 9\n",
            "Digite um número: 8\n",
            "9\n"
          ]
        }
      ],
      "source": [
        "# 1) Faça um Programa que peça dois número e imprima o maior deles:\n",
        "\n",
        "num1 = int(input(\"Digite um número: \"))\n",
        "num2 = int(input(\"Digite um número: \"))\n",
        "\n",
        "if num1 > num2:\n",
        "    print(num1)\n",
        "else:\n",
        "    print(num2)"
      ]
    },
    {
      "cell_type": "code",
      "execution_count": null,
      "id": "1d14029e-b370-4f21-be04-21ff4bc81819",
      "metadata": {
        "colab": {
          "base_uri": "https://localhost:8080/"
        },
        "id": "1d14029e-b370-4f21-be04-21ff4bc81819",
        "outputId": "6e7b955c-ce72-4a26-c6c9-70d2c8d2fc44"
      },
      "outputs": [
        {
          "output_type": "stream",
          "name": "stdout",
          "text": [
            "Digite um número: -88\n",
            "Esse número é negativo\n"
          ]
        }
      ],
      "source": [
        "# 2) Faça um Programa que peça um valor e mostre na tela se o valor é positivo ou negativo:\n",
        "\n",
        "num = int(input(\"Digite um número: \"))\n",
        "\n",
        "if num > 0:\n",
        "    print(\"Esse número é positivo\")\n",
        "else:\n",
        "    print(\"Esse número é negativo\")"
      ]
    },
    {
      "cell_type": "code",
      "execution_count": null,
      "id": "bfbe6545-a126-4598-9fc9-4a9b89ba2c19",
      "metadata": {
        "colab": {
          "base_uri": "https://localhost:8080/"
        },
        "id": "bfbe6545-a126-4598-9fc9-4a9b89ba2c19",
        "outputId": "ce2af3f2-7db8-4f82-8f6c-d0eb6e032638"
      },
      "outputs": [
        {
          "output_type": "stream",
          "name": "stdout",
          "text": [
            "Digite uma letra: a\n",
            "Essa letra é uma vogal\n"
          ]
        }
      ],
      "source": [
        "\n",
        "# 3) Faça um Programa que verifique se a letra digitada é vogal ou consoante:\n",
        "\n",
        "letra = str(input(\"Digite uma letra: \"))\n",
        "\n",
        "if ('AEIOU'.find(letra.upper()) >= 0):\n",
        "    print(\"Essa letra é uma vogal\")\n",
        "else:\n",
        "    print(\"Essa letra é uma consoante\")"
      ]
    },
    {
      "cell_type": "code",
      "execution_count": null,
      "id": "7dfeab3e-31d5-4edf-89c2-551be234af65",
      "metadata": {
        "colab": {
          "base_uri": "https://localhost:8080/"
        },
        "id": "7dfeab3e-31d5-4edf-89c2-551be234af65",
        "outputId": "1a9af358-e1ee-4fc8-d5bc-1b69eed041b5"
      },
      "outputs": [
        {
          "output_type": "stream",
          "name": "stdout",
          "text": [
            "Digite a 1º nota: 4\n",
            "Digite a 2º nota: 7\n",
            "Reprovado 5.5\n"
          ]
        }
      ],
      "source": [
        "# 4) Faça um Programa para a leitura de duas notas parciais de um aluno. O programa deve calcular a média alcançada por aluno e apresentar:\n",
        "    # a) A mensagem \"Aprovado\", se a média alcançada for maior ou igual a sete\n",
        "    # B) A mensagem \"Reprovado\", se a média for menor que sete\n",
        "    # c) A mensagem \"Aprovado com distinção\", se a média for igual a dez\n",
        "\n",
        "nota1 = float(input(\"Digite a 1º nota: \"))\n",
        "nota2 = float(input(\"Digite a 2º nota: \"))\n",
        "media = (nota1 + nota2) / 2\n",
        "\n",
        "if media >= 7 and media < 10:\n",
        "    print(\"Aprovado\", media)\n",
        "elif media < 7:\n",
        "    print(\"Reprovado\", media)\n",
        "else:\n",
        "    print(\"Aprovado com distinção\", media)"
      ]
    },
    {
      "cell_type": "code",
      "execution_count": null,
      "id": "a63e33cc-55c7-4e4b-9682-602a4b46197b",
      "metadata": {
        "colab": {
          "base_uri": "https://localhost:8080/"
        },
        "id": "a63e33cc-55c7-4e4b-9682-602a4b46197b",
        "outputId": "0858f5b4-28eb-4dfe-abb9-6dafcebd640a"
      },
      "outputs": [
        {
          "output_type": "stream",
          "name": "stdout",
          "text": [
            "Digite o 1º preço: 7\n",
            "Digite o 2º preço: 7\n",
            "Digite o 3º preço: 7\n",
            "O produto de 7.0 reais, é o que mais compensa\n"
          ]
        }
      ],
      "source": [
        "# 5) Faça um Programa que pergunte o preço de três produtos e informe qual o produto você deve comprar, sabendo que a decisão é sempre pelo mais barato:\n",
        "\n",
        "prod1 = float(input(\"Digite o 1º preço: \"))\n",
        "prod2 = float(input(\"Digite o 2º preço: \"))\n",
        "prod3 = float(input(\"Digite o 3º preço: \"))\n",
        "valores = [prod1,prod2,prod3]\n",
        "\n",
        "barato = min(valores)\n",
        "print(\"O produto de\",barato,\"reais, é o que mais compensa\")"
      ]
    },
    {
      "cell_type": "code",
      "execution_count": null,
      "id": "41966244-4805-49e5-b02d-ce206e5a0f1b",
      "metadata": {
        "colab": {
          "base_uri": "https://localhost:8080/"
        },
        "id": "41966244-4805-49e5-b02d-ce206e5a0f1b",
        "outputId": "28de2231-39d1-44b6-e96f-893100d31144"
      },
      "outputs": [
        {
          "output_type": "stream",
          "name": "stdout",
          "text": [
            "Digite o 1º número: -7\n",
            "Digite o 2º número: -5\n",
            "Digite o 3º número: -1\n",
            "Esses são os números em ordem decrescente: [-1, -5, -7]\n"
          ]
        }
      ],
      "source": [
        "# 6) Faça um Programa que leia 3 números e mostre-os em ordem decrescente:\n",
        "\n",
        "num1 = int(input(\"Digite o 1º número: \"))\n",
        "num2 = int(input(\"Digite o 2º número: \"))\n",
        "num3 = int(input(\"Digite o 3º número: \"))\n",
        "numeros = [num1,num2,num3]\n",
        "\n",
        "numeros.sort(reverse=True)\n",
        "\n",
        "print(\"Esses são os números em ordem decrescente:\",numeros)"
      ]
    },
    {
      "cell_type": "code",
      "source": [
        "# 7) Faça um Programa que pergunte em que turno você estuda. Peça para digitar M-Matutino, V-Vespertino ou N-Noturno. Imprima a mensagem \"Bom dia!\", \"Boa tarde!\", \"Boa noite!\" ou \"Valor inválido\", conforme o caso:\n",
        "\n",
        "turno = str(input(\"Qual turno você estuda? Digite M para Matutino, V para Vespertino ou N para Noturno: \").upper())\n",
        "\n",
        "if turno == \"M\":\n",
        "    print(\"Bom dia!\")\n",
        "elif turno == \"V\":\n",
        "    print(\"Boa tarde!\")\n",
        "elif turno == \"N\":\n",
        "    print(\"Boa noite!\")\n",
        "else:\n",
        "    print(\"Valor inválido\")"
      ],
      "metadata": {
        "id": "lRm8osP2aqIx",
        "colab": {
          "base_uri": "https://localhost:8080/"
        },
        "outputId": "39aaf6e8-e052-4308-eaa1-51431a47299c"
      },
      "id": "lRm8osP2aqIx",
      "execution_count": null,
      "outputs": [
        {
          "output_type": "stream",
          "name": "stdout",
          "text": [
            "Qual turno você estuda? Digite M para Matutino, V para Vespertino ou N para Noturno: m\n",
            "Bom dia!\n"
          ]
        }
      ]
    },
    {
      "cell_type": "code",
      "source": [
        "# 8) As Organizações Tabajara resolveram dar um aumento de salário aos seus colaboradores e lhe contraram para desenvolver o programa que calculará os reajustes.\n",
        "  # a. Faça um programa que recebe o salário de um colaborador e o reajuste segundo o seguinte critério, baseado no salário atual:\n",
        "  # b. salários até R$ 280,00 (incluindo) : aumento de 20%\n",
        "  # c. salários entre R$ 280,00 e R$ 700,00 : aumento de 15%\n",
        "  # d. salários entre R$ 700,00 e R$ 1500,00 : aumento de 10%\n",
        "  # e. salários de R$ 1500,00 em diante : aumento de 5% Após o aumento ser realizado, informe na tela:\n",
        "  # f. o salário antes do reajuste;\n",
        "  # g. o percentual de aumento aplicado;\n",
        "  # h. o valor do aumento;\n",
        "  # i. o novo salário, após o aumento.\n",
        "\n",
        "sal = float(input(\"Digite o seu salário: \"))\n",
        "\n",
        "if sal <= 280:\n",
        "    reaj = 0.20\n",
        "    aum = sal * reaj\n",
        "    nov = aum + sal\n",
        "    print(\"Seu salário era:\", sal, \"; Seu aumento é:\", reaj * 100,\"%; Seu aumento é:\", aum, \"; e o seu novo salário é:\", nov)\n",
        "elif sal > 280 and sal <= 700:\n",
        "    reaj = 0.15\n",
        "    aum = sal * reaj\n",
        "    nov = aum + sal\n",
        "    print(\"Seu salário era:\", sal, \"; Seu aumento é:\", reaj * 100,\"%; Seu aumento é:\", aum, \"; e o seu novo salário é:\", nov)\n",
        "elif sal > 700 and sal <= 1500:\n",
        "    reaj = 0.10\n",
        "    aum = sal * reaj\n",
        "    nov = aum + sal\n",
        "    print(\"Seu salário era:\", sal, \"; Seu aumento é:\", reaj * 100,\"%; Seu aumento é:\", aum, \"; e o seu novo salário é:\", nov)\n",
        "else:\n",
        "    reaj = 0.05\n",
        "    aum = sal * reaj\n",
        "    nov = aum + sal\n",
        "    print(\"Seu salário era:\", sal, \"; Seu aumento é:\", reaj * 100,\"%; Seu aumento é:\", aum, \"; e o seu novo salário é:\", nov)"
      ],
      "metadata": {
        "colab": {
          "base_uri": "https://localhost:8080/"
        },
        "id": "AJgqHrK9ZskN",
        "outputId": "312a6951-0ccd-4fd4-8d6c-31df62c0cbc5"
      },
      "id": "AJgqHrK9ZskN",
      "execution_count": null,
      "outputs": [
        {
          "output_type": "stream",
          "name": "stdout",
          "text": [
            "Digite o seu salário: 1022\n",
            "Seu salário era: 1022.0 ; Seu aumento é: 10.0 %; Seu aumento é: 102.2 ; e o seu novo salário é: 1124.2\n"
          ]
        }
      ]
    },
    {
      "cell_type": "code",
      "source": [
        "# 9) Faça um programa para o cálculo de uma folha de pagamento, sabendo que os descontos são do Imposto de Renda, que depende do salário bruto (conforme tabela abaixo) e 3% para o Sindicato e que o FGTS corresponde a 11% do Salário Bruto, mas não é descontado (é a empresa que deposita).\n",
        "# O Salário Líquido corresponde ao Salário Bruto menos os descontos. O programa deverá pedir ao usuário o valor da sua hora e a quantidade de horas trabalhadas no mês:\n",
        "  # a. Desconto do IR:\n",
        "  # b. Salário Bruto até 900 (inclusive) - isento\n",
        "  # c. Salário Bruto até 1500 (inclusive) - desconto de 5%\n",
        "  # d. Salário Bruto até 2500 (inclusive) - desconto de 10%\n",
        "  # e. Salário Bruto acima de 2500 - desconto de 20%\n",
        "\n",
        "val_hr = float(input(\"Informe o valo da hora trabalhda:\"))\n",
        "qntd_hr = float(input(\"Informe a quantidade de horas trabalhadas:\"))\n",
        "\n",
        "sal_bruto = val_hr * qntd_hr\n",
        "\n",
        "if sal_bruto > 2500:\n",
        "    percIR = 20\n",
        "elif sal_bruto > 1500:\n",
        "    percIR = 10\n",
        "elif sal_bruto > 900:\n",
        "    percIR = 5\n",
        "else:\n",
        "    percIR = 0\n",
        "\n",
        "valIR = sal_bruto * (percIR / 100)\n",
        "valSIND = sal_bruto * (3 / 100)\n",
        "desconto = valIR + valSIND\n",
        "FGTS = sal_bruto * (11 / 100)\n",
        "sal_liq = sal_bruto - desconto\n",
        "\n",
        "print(\"Salário bruto por hora: R$\", sal_bruto)\n",
        "print(\"(-)IR\", percIR, \"%; Valor: R$\", valIR)\n",
        "print(\"(-)Sindicato 3%; Valor: R$\", valSIND)\n",
        "print(\"FGTS (11%):\", FGTS)\n",
        "print(\"Total de descontos: R$\", desconto)\n",
        "print(\"Salário Líquido: R$\", sal_liq)"
      ],
      "metadata": {
        "id": "1YtXayL4e-Dc",
        "colab": {
          "base_uri": "https://localhost:8080/"
        },
        "outputId": "ad1e99b3-1a23-49d7-fe46-e8cb34161b6b"
      },
      "id": "1YtXayL4e-Dc",
      "execution_count": null,
      "outputs": [
        {
          "output_type": "stream",
          "name": "stdout",
          "text": [
            "Informe o valo da hora trabalhda:20\n",
            "Informe a quantidade de horas trabalhadas:220\n",
            "Salário bruto por hora: R$ 4400.0\n",
            "(-)IR 20 %; Valor: R$ 880.0\n",
            "(-)Sindicato 3%; Valor: R$ 132.0\n",
            "FGTS (11%): 484.0\n",
            "Total de descontos: R$ 1012.0\n",
            "Salário Líquido: R$ 3388.0\n"
          ]
        }
      ]
    },
    {
      "cell_type": "code",
      "source": [
        "# 10) Faça um programa que lê as duas notas parciais obtidas por um aluno numa disciplina ao longo de um semestre, e calcule a sua média. A atribuição de conceitos obedece à tabela abaixo:\n",
        "  # a. Média de Aproveitamento Conceito\n",
        "  # b. Entre 9.0 e 10.0 A\n",
        "  # c. Entre 7.5 e 9.0 B\n",
        "  # d. Entre 6.0 e 7.5 C\n",
        "  # e. Entre 4.0 e 6.0 D\n",
        "  # f. Entre 4.0 e 0.0 E\n",
        "\n",
        "nota1 = float(input(f\"Digite sua 1° nota:\"))\n",
        "nota2 = float(input(\"Digite sua 2º nota:\"))\n",
        "\n",
        "media = (nota1 + nota2) / 2\n",
        "\n",
        "if media > 9.0 and media <= 10.0:\n",
        "    print(\"Sua média é:\", media, \"; E sua nota final é: A\")\n",
        "elif media <= 9.0 and media > 7.5:\n",
        "    print(\"Sua média é:\", media, \"; E sua nota final é: B\")\n",
        "elif media <= 7.5 and media > 6.0:\n",
        "    print(\"Sua média é:\", media, \"; E sua nota final é: C\")\n",
        "elif media <= 6.0 and media > 4.0:\n",
        "    print(\"Sua média é:\", media, \"; E sua nota final é: D\")\n",
        "else:\n",
        "    print(\"Sua média é:\", media, \"; E sua nota final é: E\")"
      ],
      "metadata": {
        "colab": {
          "base_uri": "https://localhost:8080/"
        },
        "id": "hyf6CROEfICO",
        "outputId": "45b15cad-2fdb-479a-a442-b50f5f8d3eb6"
      },
      "id": "hyf6CROEfICO",
      "execution_count": null,
      "outputs": [
        {
          "output_type": "stream",
          "name": "stdout",
          "text": [
            "Digite sua 1° nota:8\n",
            "Digite sua 2º nota:5\n",
            "Sua média é: 6.5 ; E sua nota final é: C\n"
          ]
        }
      ]
    }
  ],
  "metadata": {
    "kernelspec": {
      "display_name": "Python [conda env:base] *",
      "language": "python",
      "name": "conda-base-py"
    },
    "language_info": {
      "codemirror_mode": {
        "name": "ipython",
        "version": 3
      },
      "file_extension": ".py",
      "mimetype": "text/x-python",
      "name": "python",
      "nbconvert_exporter": "python",
      "pygments_lexer": "ipython3",
      "version": "3.12.7"
    },
    "colab": {
      "provenance": [],
      "include_colab_link": true
    }
  },
  "nbformat": 4,
  "nbformat_minor": 5
}