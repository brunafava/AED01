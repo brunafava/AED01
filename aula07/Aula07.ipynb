{
  "cells": [
    {
      "cell_type": "markdown",
      "metadata": {
        "id": "ejv0ktFjXMyr"
      },
      "source": [
        "![Algoritmos e Estrutura de Dados I](AED1_banner.jpg)"
      ]
    },
    {
      "cell_type": "markdown",
      "metadata": {
        "id": "ruamx1o8XMyt"
      },
      "source": [
        "## <font color='blue'>Algoritmos e Estrutura de Dados I</font>\n",
        "## <font color='blue'>Aula 7 -  Condicionais</font>"
      ]
    },
    {
      "cell_type": "code",
      "execution_count": null,
      "metadata": {
        "id": "hlSWCgpwXMyu"
      },
      "outputs": [],
      "source": [
        "# Versão da Linguagem Python\n",
        "from platform import python_version\n",
        "print('Versão da Linguagem Python Usada Neste Jupyter Notebook:', python_version())"
      ]
    },
    {
      "cell_type": "markdown",
      "metadata": {
        "id": "A2KsAQ_sXMyx"
      },
      "source": [
        "## Condicional If"
      ]
    },
    {
      "cell_type": "code",
      "execution_count": null,
      "metadata": {
        "id": "fowajGJyXMyx"
      },
      "outputs": [],
      "source": [
        "# Condicional If (Se)\n",
        "if 5 > 2:\n",
        "    print(\"A sentença é verdadeira!\")"
      ]
    },
    {
      "cell_type": "code",
      "execution_count": null,
      "metadata": {
        "id": "IYQmEaa2XMyy"
      },
      "outputs": [],
      "source": [
        "# Condicional If...Else\n",
        "if 5 < 2:\n",
        "    print(\"A sentença é verdadeira!\")\n",
        "else:\n",
        "    print(\"A sentença é falsa!\")"
      ]
    },
    {
      "cell_type": "code",
      "execution_count": null,
      "metadata": {
        "id": "wfOgorwUXMyy"
      },
      "outputs": [],
      "source": [
        "# Condicional If...Else com variável\n",
        "dia = \"Terça\"\n",
        "if dia == \"Segunda\":\n",
        "    print(\"Hoje fará sol!\")\n",
        "else:\n",
        "    print(\"Hoje vai chover!\")"
      ]
    },
    {
      "cell_type": "code",
      "execution_count": null,
      "metadata": {
        "id": "XoIbBaKCXMyy"
      },
      "outputs": [],
      "source": [
        "# Podemos usar o operador elif para validar mais de uma condição\n",
        "dia = input(\"Qual do dia da semana: \")\n",
        "if dia == \"Segunda\":\n",
        "    print(\"Hoje fará sol!\")\n",
        "elif dia == \"Terça\":\n",
        "    print(\"Hoje vai chover!\")\n",
        "else:\n",
        "    print(\"Sem previsão do tempo para o dia selecionado\")"
      ]
    },
    {
      "cell_type": "markdown",
      "metadata": {
        "id": "cbMf-mzCXMyz"
      },
      "source": [
        "## Operadores Relacionais\n",
        "\n",
        "Retorna um valor booleano."
      ]
    },
    {
      "cell_type": "code",
      "execution_count": null,
      "metadata": {
        "id": "mk03v-e6XMy0"
      },
      "outputs": [],
      "source": [
        "6 > 3"
      ]
    },
    {
      "cell_type": "code",
      "execution_count": null,
      "metadata": {
        "id": "eXBzC33tXMy1"
      },
      "outputs": [],
      "source": [
        "3 > 7"
      ]
    },
    {
      "cell_type": "code",
      "execution_count": null,
      "metadata": {
        "id": "qOfFb7RWXMy1"
      },
      "outputs": [],
      "source": [
        "4 < 8"
      ]
    },
    {
      "cell_type": "code",
      "execution_count": null,
      "metadata": {
        "id": "KCxH5fM6XMy2"
      },
      "outputs": [],
      "source": [
        "4 >= 4"
      ]
    },
    {
      "cell_type": "code",
      "execution_count": null,
      "metadata": {
        "id": "ow6xRx_OXMy2"
      },
      "outputs": [],
      "source": [
        "5 == 5"
      ]
    },
    {
      "cell_type": "code",
      "execution_count": null,
      "metadata": {
        "id": "gGIsdVB6XMy3"
      },
      "outputs": [],
      "source": [
        "if 5 == 5:\n",
        "    print(\"Testando Python!\")"
      ]
    },
    {
      "cell_type": "code",
      "execution_count": null,
      "metadata": {
        "id": "P3nLPATbXMy3"
      },
      "outputs": [],
      "source": [
        "if True:\n",
        "    print('Parece que Python funciona!')"
      ]
    },
    {
      "cell_type": "code",
      "execution_count": null,
      "metadata": {
        "id": "C5a1TiM8XMy3"
      },
      "outputs": [],
      "source": [
        "# Atenção com a sintaxe\n",
        "if 4 > 3\n",
        "    print(\"Tudo funciona!\")"
      ]
    },
    {
      "cell_type": "code",
      "execution_count": null,
      "metadata": {
        "id": "GNNjoNFxXMy3"
      },
      "outputs": [],
      "source": [
        "# Atenção com a sintaxe\n",
        "if 4 > 3:\n",
        "print(\"Tudo funciona!\")"
      ]
    },
    {
      "cell_type": "markdown",
      "metadata": {
        "id": "HCrv8VHfXMy3"
      },
      "source": [
        "#### --> Atenção aos espaços entre a margem e cada um dos seus comandos.\n",
        "#### --> Esses espaços são chamados de \"identação\".\n",
        "#### --> A indentação faz parte da sintaxe da linguagem Python e identifica os blocos de código"
      ]
    },
    {
      "cell_type": "markdown",
      "metadata": {
        "id": "kds9nlMgXMy4"
      },
      "source": [
        "## Condicionais Aninhados"
      ]
    },
    {
      "cell_type": "code",
      "execution_count": null,
      "metadata": {
        "id": "pVSj8E_ZXMy4"
      },
      "outputs": [],
      "source": [
        "idade = 18\n",
        "if idade > 17:\n",
        "    print(\"Você pode dirigir!\")"
      ]
    },
    {
      "cell_type": "code",
      "execution_count": null,
      "metadata": {
        "id": "YswLfp4FXMy4"
      },
      "outputs": [],
      "source": [
        "Nome = \"Bob\"\n",
        "if idade > 13:\n",
        "    if Nome == \"Bob\":\n",
        "        print(\"Ok Bob, você está autorizado a entrar!\")\n",
        "    else:\n",
        "        print(\"Desculpe, mas você não pode entrar!\")"
      ]
    },
    {
      "cell_type": "code",
      "execution_count": null,
      "metadata": {
        "id": "bjX2_qR-XMy4"
      },
      "outputs": [],
      "source": [
        "idade = 13\n",
        "Nome = \"Bob\"\n",
        "if idade >= 13 and Nome == \"Bob\":\n",
        "    print(\"Ok Bob, você está autorizado a entrar!\")"
      ]
    },
    {
      "cell_type": "code",
      "execution_count": null,
      "metadata": {
        "id": "vKTVIqmhXMy5"
      },
      "outputs": [],
      "source": [
        "idade = 12\n",
        "Nome = \"Bob\"\n",
        "if (idade >= 13) or (Nome == \"Bob\"):\n",
        "    print(\"Ok Bob, você está autorizado a entrar!\")"
      ]
    },
    {
      "cell_type": "markdown",
      "metadata": {
        "id": "Znb2M2IlXMy5"
      },
      "source": [
        "## Operadores Lógicos"
      ]
    },
    {
      "cell_type": "code",
      "execution_count": null,
      "metadata": {
        "id": "_-52uvGAXMy5"
      },
      "outputs": [],
      "source": [
        "idade = 18\n",
        "nome = \"Bob\"\n",
        "if idade > 17:\n",
        "    print(\"Você pode dirigir!\")"
      ]
    },
    {
      "cell_type": "code",
      "execution_count": null,
      "metadata": {
        "id": "80PW58ufXMy5"
      },
      "outputs": [],
      "source": [
        "idade = 18\n",
        "if idade > 17 and nome == \"Bob\":\n",
        "    print(\"Autorizado!\")"
      ]
    },
    {
      "cell_type": "markdown",
      "metadata": {
        "id": "ATLJvVbkXMy6"
      },
      "source": [
        "Os operadores lógicos funcionam assim:\n",
        "\n",
        "- Operador **and** - Retorna True se ambas as declarações forem verdadeiras.\n",
        "- Operador **or** - Retorna True se uma das declarações for verdadeira.\n",
        "- Operador **not** - Inverte o resultado, retorna False se o resultado for True."
      ]
    },
    {
      "cell_type": "code",
      "execution_count": null,
      "metadata": {
        "id": "6sFbDdz4XMy6"
      },
      "outputs": [],
      "source": [
        "# Operador and\n",
        "\n",
        "numero = 4\n",
        "\n",
        "if (numero > 2) and (numero % 2 == 0):\n",
        "    print(\"Isso está sendo impresso porque as duas condições são verdadeiras!\")"
      ]
    },
    {
      "cell_type": "code",
      "execution_count": null,
      "metadata": {
        "id": "9wLy6joeXMy6"
      },
      "outputs": [],
      "source": [
        "# Operador and\n",
        "\n",
        "numero = 4\n",
        "\n",
        "if (numero > 5) and (numero % 2 == 0):\n",
        "    print(\"Isso está sendo impresso porque as duas condições são verdadeiras!\")\n",
        "else:\n",
        "    print(\"Isso está sendo impresso porque uma das duas condições é falsa!\")"
      ]
    },
    {
      "cell_type": "code",
      "execution_count": null,
      "metadata": {
        "id": "BAQZkc1nXMy6"
      },
      "outputs": [],
      "source": [
        "# Operador or\n",
        "\n",
        "numero = 4\n",
        "\n",
        "if (numero > 5) or (numero % 2 == 0):\n",
        "    print(\"Isso está sendo impresso porque uma duas condições é verdadeira!\")"
      ]
    },
    {
      "cell_type": "code",
      "execution_count": null,
      "metadata": {
        "id": "Hf79JNG_XMy7"
      },
      "outputs": [],
      "source": [
        "# Operador not\n",
        "\n",
        "numero = 4\n",
        "\n",
        "if not(numero > 5) and (numero % 2 == 0):\n",
        "    print(\"Isso está sendo impresso porque as duas condições são verdadeiras!\")\n",
        "else:\n",
        "    print(\"Isso está sendo impresso porque uma das duas condições é falsa!\")"
      ]
    },
    {
      "cell_type": "code",
      "execution_count": null,
      "metadata": {
        "id": "fxqEcrt7XMy7"
      },
      "outputs": [],
      "source": [
        "# Operador and, or e not\n",
        "\n",
        "numero = 4\n",
        "\n",
        "if (not(numero > 5) and (numero % 2 == 0)) or (numero == 4):\n",
        "    print(\"Isso está sendo impresso porque as duas primeiras condições são verdadeiras ou a terceira é verdadeira!\")"
      ]
    },
    {
      "cell_type": "code",
      "execution_count": null,
      "metadata": {
        "id": "1NP3xP_5XMy9"
      },
      "outputs": [],
      "source": [
        "# Exemplo com o uso de variáveis\n",
        "\n",
        "disciplina = 'Algoritmos'\n",
        "nota_final = 70\n",
        "\n",
        "if disciplina == 'Algoritmos' and nota_final >= 70:\n",
        "    print('Você foi aprovado!')\n",
        "else:\n",
        "    print('Lamento, acho que você precisa estudar mais!')"
      ]
    },
    {
      "cell_type": "code",
      "execution_count": null,
      "metadata": {
        "id": "FSMJB_lYXMy9"
      },
      "outputs": [],
      "source": [
        "# Usando mais de uma condição na cláusula if\n",
        "\n",
        "disciplina = 'Algoritmos'\n",
        "nota_final = 60\n",
        "\n",
        "if disciplina == 'Algoritmos' and nota_final >= 70:\n",
        "    print('Você foi aprovado!')\n",
        "else:\n",
        "    print('Lamento, acho que você precisa estudar mais!')"
      ]
    },
    {
      "cell_type": "code",
      "execution_count": null,
      "metadata": {
        "id": "deRGyiLPXMy9"
      },
      "outputs": [],
      "source": [
        "# Usando mais de uma condição na cláusula if e introduzindo Placeholders\n",
        "\n",
        "disciplina = 'Algoritmos'\n",
        "nota_final = 90\n",
        "semestre = 1\n",
        "\n",
        "if disciplina == 'Data Science' and nota_final >= 80 and semestre != 2:\n",
        "    print('Você foi aprovado em %s com média final %r!' %(disciplina, nota_final))\n",
        "else:\n",
        "    print('Lamento, acho que você precisa estudar mais!')"
      ]
    },
    {
      "cell_type": "markdown",
      "metadata": {
        "id": "oiVOXipwXMy9"
      },
      "source": [
        "----------\n",
        "## Exercícios"
      ]
    },
    {
      "cell_type": "markdown",
      "metadata": {
        "id": "9aH4lcZuXMy-"
      },
      "source": [
        "1. Faça um Programa que peça dois números e imprima o maior deles."
      ]
    },
    {
      "cell_type": "code",
      "execution_count": null,
      "metadata": {
        "colab": {
          "base_uri": "https://localhost:8080/"
        },
        "id": "E2Aji36fXMy-",
        "outputId": "a65b23fb-841e-4dd5-8382-6bec5a9937dd"
      },
      "outputs": [
        {
          "output_type": "stream",
          "name": "stdout",
          "text": [
            "Digite um número:5\n",
            "Digite um número:7\n",
            "7\n"
          ]
        }
      ],
      "source": [
        "num1 = int(input(\"Digite um número:\"))\n",
        "num2 = int(input(\"Digite um número:\"))\n",
        "\n",
        "if num1 == num2:\n",
        "    print(\"Esses números são iguais.\")\n",
        "elif num1 > num2:\n",
        "    print(num1)\n",
        "else:\n",
        "    print(num2)"
      ]
    },
    {
      "cell_type": "markdown",
      "metadata": {
        "id": "oOl4xbIlXMzK"
      },
      "source": [
        "2. Faça um Programa que verifique se uma letra digitada é vogal ou consoante."
      ]
    },
    {
      "cell_type": "code",
      "execution_count": null,
      "metadata": {
        "colab": {
          "base_uri": "https://localhost:8080/"
        },
        "id": "UU1r08s2XMzK",
        "outputId": "819f0e74-4e00-4a92-9190-e02038707b35"
      },
      "outputs": [
        {
          "output_type": "stream",
          "name": "stdout",
          "text": [
            "Digite uma letra:b\n",
            "Essa letra é uma consoante!\n"
          ]
        }
      ],
      "source": [
        "letra = input(\"Digite uma letra:\")\n",
        "\n",
        "vogais = \"a\", \"e\", \"i\", \"o\", \"u\", \"A\", \"E\", \"I\", \"O\", \"U\"\n",
        "\n",
        "if letra in vogais:\n",
        "    print(\"Essa letra é uma vogal!\")\n",
        "else:\n",
        "    print(\"Essa letra é uma consoante!\")"
      ]
    },
    {
      "cell_type": "markdown",
      "metadata": {
        "id": "VgtSvxGAXMzK"
      },
      "source": [
        "3. Faça um programa que receba a idade de um nadador e mostre a sua categoria usando as regras a seguir:\n",
        "\n",
        "Categoria_______Idade\n",
        "\n",
        "Infantil___________5 a 7\n",
        "\n",
        "Juvenil___________8 a 10\n",
        "\n",
        "Adolescente_____11 a 15\n",
        "\n",
        "Adulto___________16 a 30\n",
        "\n",
        "Sênior____________Acima de 30\n"
      ]
    },
    {
      "cell_type": "code",
      "execution_count": null,
      "metadata": {
        "colab": {
          "base_uri": "https://localhost:8080/"
        },
        "id": "llkcOKkQXMzL",
        "outputId": "4eab97cb-215e-4265-fbc3-ae74a62124f7"
      },
      "outputs": [
        {
          "output_type": "stream",
          "name": "stdout",
          "text": [
            "Digite sua idade:13\n",
            "Sua categoria é a adolescente.\n"
          ]
        }
      ],
      "source": [
        "idade = int(input(\"Digite sua idade:\"))\n",
        "\n",
        "if idade < 5:\n",
        "    print(\"Não possui categoria para a sua idade.\")\n",
        "elif idade >= 5 and idade <=7:\n",
        "    print(\"Sua categoria é a infantil.\")\n",
        "elif idade >=8 and idade <=10:\n",
        "    print(\"Sua categoria é a juvenil.\")\n",
        "elif idade >=11 and idade <=15:\n",
        "    print(\"Sua categoria é a adolescente.\")\n",
        "elif idade >=16 and idade <= 30:\n",
        "    print(\"Sua categoria é a adulto.\")\n",
        "else:\n",
        "    print(\"Sua categoria é a sênior.\")"
      ]
    },
    {
      "cell_type": "markdown",
      "metadata": {
        "id": "LNkKmt51XMzL"
      },
      "source": [
        "4. Faça um Programa que peça os 3 lados de um triângulo. O programa deverá informar se os valores podem ser um triângulo. Indique, caso os lados formem um triângulo, se o mesmo é: equilátero, isósceles ou escaleno.\n",
        "Dicas:\n",
        "- Três lados formam um triângulo quando a soma de quaisquer dois lados for maior que o terceiro;\n",
        "- Triângulo Equilátero: três lados iguais;\n",
        "- Triângulo Isósceles: quaisquer dois lados iguais;\n",
        "- Triângulo Escaleno: três lados diferentes;"
      ]
    },
    {
      "cell_type": "code",
      "execution_count": null,
      "metadata": {
        "colab": {
          "base_uri": "https://localhost:8080/"
        },
        "id": "gl_G6wznXMzL",
        "outputId": "ff833b19-9832-465d-c020-3049a579390a"
      },
      "outputs": [
        {
          "output_type": "stream",
          "name": "stdout",
          "text": [
            "Digite um valor:4\n",
            "Digite um valor:5\n",
            "Digite um valor:6\n",
            "Os valores informados formam um triângulo!\n",
            "O triângulo é escaleno.\n"
          ]
        }
      ],
      "source": [
        "lado1 = float(input(\"Digite um valor:\"))\n",
        "lado2 = float(input(\"Digite um valor:\"))\n",
        "lado3 = float(input(\"Digite um valor:\"))\n",
        "\n",
        "if lado1 + lado2 > lado3 and lado2 + lado3 > lado1 and lado1 + lado3 > lado2:\n",
        "    print(\"Os valores informados formam um triângulo!\")\n",
        "    if lado1 == lado2 == lado3:\n",
        "        print(\"O triângulo é equilátero.\")\n",
        "    elif lado1 == lado2 or lado1 == lado3 or lado3 == lado2:\n",
        "        print(\"O triângulo é isósceles.\")\n",
        "    else:\n",
        "        print(\"O triângulo é escaleno.\")"
      ]
    },
    {
      "cell_type": "markdown",
      "metadata": {
        "id": "-e0Mhs9UXMzM"
      },
      "source": [
        "5. Faça um programa que calcule as raízes de uma equação do segundo grau, na forma ax2 + bx + c. O programa deverá pedir os valores de a, b e c e fazer as consistências, informando ao usuário nas seguintes situações:\n",
        "- Se o usuário informar o valor de a igual a zero, a equação não é do segundo grau e o programa não deve fazer pedir os demais valores, sendo encerrado;\n",
        "- Se o delta calculado for negativo, a equação não possui raízes reais. Informe ao usuário e encerre o programa;\n",
        "- Se o delta calculado for igual a zero a equação possui apenas uma raiz real; informe-a ao usuário;\n",
        "- Se o delta for positivo, a equação possui duas raiz reais; informe-as ao usuário;\n"
      ]
    },
    {
      "cell_type": "code",
      "execution_count": null,
      "metadata": {
        "colab": {
          "base_uri": "https://localhost:8080/"
        },
        "id": "Ujme8s1vXMzM",
        "outputId": "3d3e4afe-30d2-468f-adc3-13c590b3fe75"
      },
      "outputs": [
        {
          "output_type": "stream",
          "name": "stdout",
          "text": [
            "Digite um valor para a:7\n",
            "Digite um valor para b:8\n",
            "Digite um valor para c:9\n",
            "O delta é negativo, a equação não possui raízes reais.\n"
          ]
        }
      ],
      "source": [
        "import math\n",
        "a = float(input(\"Digite um valor para a:\"))\n",
        "\n",
        "if a == 0:\n",
        "    print(\"A equação não é de segundo grau.\")\n",
        "else:\n",
        "    b = float(input(\"Digite um valor para b:\"))\n",
        "    c = float(input(\"Digite um valor para c:\"))\n",
        "    delta = b**2 - 4 * a * c\n",
        "    if delta < 0:\n",
        "        print(\"O delta é negativo, a equação não possui raízes reais.\")\n",
        "    elif delta == 0:\n",
        "        raiz = -b / (2*a)\n",
        "        print(\"A equação possui uma raiz real:\", raiz)\n",
        "    else:\n",
        "        raiz1 = (-b + math.sqrt(delta)) / (2*a)\n",
        "        raiz2 = (-b - math.sqrt(delta)) / (2*a)\n",
        "        print(\"A eqação possui duas raízes reais:\", raiz1, \"; e:\", raiz2)\n"
      ]
    },
    {
      "cell_type": "markdown",
      "metadata": {
        "id": "JqJd7i3CXMzM"
      },
      "source": [
        "## Fim da Aula 7"
      ]
    }
  ],
  "metadata": {
    "kernelspec": {
      "display_name": "Python 3 (ipykernel)",
      "language": "python",
      "name": "python3"
    },
    "language_info": {
      "codemirror_mode": {
        "name": "ipython",
        "version": 3
      },
      "file_extension": ".py",
      "mimetype": "text/x-python",
      "name": "python",
      "nbconvert_exporter": "python",
      "pygments_lexer": "ipython3",
      "version": "3.11.8"
    },
    "colab": {
      "provenance": []
    }
  },
  "nbformat": 4,
  "nbformat_minor": 0
}